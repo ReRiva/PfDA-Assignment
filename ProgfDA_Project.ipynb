{
 "cells": [
  {
   "cell_type": "markdown",
   "id": "c99924b4",
   "metadata": {},
   "source": [
    "# Programming for Data Analysis Project"
   ]
  },
  {
   "cell_type": "code",
   "execution_count": 2,
   "id": "6a3d82f6",
   "metadata": {},
   "outputs": [],
   "source": [
    "# Importing packages\n",
    "import numpy as np\n",
    "import pandas as pd\n",
    "import seaborn as sns\n",
    "import scipy.stats as stats\n",
    "import matplotlib.pyplot as plt"
   ]
  },
  {
   "cell_type": "markdown",
   "id": "dcf90327",
   "metadata": {},
   "source": [
    "## Introduction"
   ]
  },
  {
   "cell_type": "markdown",
   "id": "14e239fb",
   "metadata": {},
   "source": [
    "### Proposal\n",
    "\n",
    "Based on real world data, analyse, and synthesize a dataset. Based on this synthetization show if a adult men or women are more likely to be overweight, using their height, weight and BMI\n"
   ]
  },
  {
   "cell_type": "markdown",
   "id": "558d81b0",
   "metadata": {},
   "source": [
    "### What is the definition of being overweight?"
   ]
  },
  {
   "cell_type": "markdown",
   "id": "0c9c6529",
   "metadata": {},
   "source": [
    "In simple terms, according with the [WHO](https://www.who.int/news-room/fact-sheets/detail/obesity-and-overweight#:~:text=For%20adults%2C%20WHO%20defines%20overweight,than%20or%20equal%20to%2030.), <i>overweight and obesity are defined as abnormal or excessive fat accumulation that may impair health</i>.\n"
   ]
  },
  {
   "cell_type": "markdown",
   "id": "3daa87cf",
   "metadata": {},
   "source": [
    "But how do we determine if someone is overweight, or in other words have excessive fat accumulation in their body? For that we use a index called BMI"
   ]
  },
  {
   "cell_type": "markdown",
   "id": "c725ebeb",
   "metadata": {},
   "source": [
    "### What is BMI"
   ]
  },
  {
   "cell_type": "markdown",
   "id": "e1913db2",
   "metadata": {},
   "source": [
    "BMI stands for <i>Body mass index</i>. It is a simple index commonly used to classify if someone fits the overweight/obese or underweight spectrum. "
   ]
  },
  {
   "cell_type": "markdown",
   "id": "efaec601",
   "metadata": {},
   "source": [
    "For Adults, if a person has a BMI greater than or equal to 25, they will be considered overweight. If their BMI is over 30, they will be considered obese. BMI provide a broad idea of a individual health and body fat situation and its table of classification is the same for both males and females. Because of that it is a good screening too, however it does not mean that both individuals with the same BMI will be affected the same way."
   ]
  },
  {
   "cell_type": "markdown",
   "id": "7790dd7e",
   "metadata": {},
   "source": [
    "#### Why BMI is important and what a High BMI can tell about an individual?"
   ]
  },
  {
   "cell_type": "markdown",
   "id": "1e611ca0",
   "metadata": {},
   "source": [
    "BMI indices are often used as screening toll, by looking at a person BMI you can have a idea of the person, body fat ratio and asses if the individual may be on risk of getting affected for disease such as:\n",
    "-\tcardiovascular diseases\n",
    "-\tdiabetes\n",
    "-\tand even some cancers\n",
    " "
   ]
  },
  {
   "cell_type": "markdown",
   "id": "b8f27894",
   "metadata": {},
   "source": [
    "#### How BMI is calculate and BMI rates."
   ]
  },
  {
   "cell_type": "markdown",
   "id": "8c7e136f",
   "metadata": {},
   "source": [
    "The formula to calculate a individual BMI is the person's weight in kilograms(kg) divided by the square of his height in meters."
   ]
  },
  {
   "cell_type": "code",
   "execution_count": 42,
   "id": "fa2f154f",
   "metadata": {},
   "outputs": [
    {
     "name": "stdout",
     "output_type": "stream",
     "text": [
      "Your BMI index is: 22.60\n"
     ]
    }
   ],
   "source": [
    "#BMI calculation\n",
    "# Height in Meters an weight in kg\n",
    "height = 1.76\n",
    "weight = 70\n",
    "\n",
    "bmi = (weight) / (height)**2\n",
    "print(\"Your BMI index is: {:.2f}\".format(bmi))"
   ]
  },
  {
   "cell_type": "markdown",
   "id": "db7f0982",
   "metadata": {},
   "source": [
    "Using the [CDC BMI Table](https://www.cdc.gov/obesity/basics/adult-defining.html), the above individual would be classified as having a healthy weight.\n",
    "\n",
    "- BMI is less than 18.5, it falls within the underweight range.\n",
    "- If your BMI is 18.5 to <25, it falls within the healthy weight range.\n",
    "- If your BMI is 25.0 to <30, it falls within the overweight range.\n",
    "- If your BMI is 30.0 or higher, it falls within the obesity range."
   ]
  },
  {
   "cell_type": "markdown",
   "id": "060f8b84",
   "metadata": {},
   "source": [
    "# Real World Dataset"
   ]
  },
  {
   "cell_type": "markdown",
   "id": "5ddf6801",
   "metadata": {},
   "source": [
    "The dataset used was the [Finger Print Dataset](https://repository.lboro.ac.uk/articles/dataset/Height_weight_and_fingerprint_measurements_collected_from_200_participants/7539206) from the University of Loughtborough, authored by **Beth McMurchie**, **George TorrensGeorge Torrens** and **Paul Kelly**."
   ]
  },
  {
   "cell_type": "markdown",
   "id": "6234de77",
   "metadata": {},
   "source": [
    "This dataset deals with the regression analysis to prove whether or not there is a relationship between the individual physical stature and their fingerprint size. Most of the dataset data was dropped as it was unrelated to the proposal of this project, the only data kept was the gender, height and weight of the participants.\n",
    "You can see a snapshot of the original dataset below."
   ]
  },
  {
   "cell_type": "code",
   "execution_count": 4,
   "id": "9760cff1",
   "metadata": {},
   "outputs": [
    {
     "data": {
      "text/html": [
       "<div>\n",
       "<style scoped>\n",
       "    .dataframe tbody tr th:only-of-type {\n",
       "        vertical-align: middle;\n",
       "    }\n",
       "\n",
       "    .dataframe tbody tr th {\n",
       "        vertical-align: top;\n",
       "    }\n",
       "\n",
       "    .dataframe thead th {\n",
       "        text-align: right;\n",
       "    }\n",
       "</style>\n",
       "<table border=\"1\" class=\"dataframe\">\n",
       "  <thead>\n",
       "    <tr style=\"text-align: right;\">\n",
       "      <th></th>\n",
       "      <th>Participant Number</th>\n",
       "      <th>Gender</th>\n",
       "      <th>Age</th>\n",
       "      <th>Dominant Hand</th>\n",
       "      <th>Height (cm) (average of 3 measurments)</th>\n",
       "      <th>Weight (kg) (average of 3 measurements)</th>\n",
       "      <th>Fingertip Temperature (°C)</th>\n",
       "      <th>Fingerprint Height (mm)</th>\n",
       "      <th>Fingerprint Width (mm)</th>\n",
       "      <th>Fingerprint Area (mm2)</th>\n",
       "      <th>Fingerprint Circumference (mm)</th>\n",
       "    </tr>\n",
       "  </thead>\n",
       "  <tbody>\n",
       "    <tr>\n",
       "      <th>0</th>\n",
       "      <td>101</td>\n",
       "      <td>Male</td>\n",
       "      <td>NaN</td>\n",
       "      <td>Right</td>\n",
       "      <td>174.000000</td>\n",
       "      <td>70.000000</td>\n",
       "      <td>34.0</td>\n",
       "      <td>19.8</td>\n",
       "      <td>13.7</td>\n",
       "      <td>240.6</td>\n",
       "      <td>57.7</td>\n",
       "    </tr>\n",
       "    <tr>\n",
       "      <th>1</th>\n",
       "      <td>102</td>\n",
       "      <td>Male</td>\n",
       "      <td>NaN</td>\n",
       "      <td>Right</td>\n",
       "      <td>202.000000</td>\n",
       "      <td>99.000000</td>\n",
       "      <td>30.0</td>\n",
       "      <td>24.0</td>\n",
       "      <td>14.1</td>\n",
       "      <td>278.8</td>\n",
       "      <td>62.7</td>\n",
       "    </tr>\n",
       "    <tr>\n",
       "      <th>2</th>\n",
       "      <td>103</td>\n",
       "      <td>Male</td>\n",
       "      <td>NaN</td>\n",
       "      <td>Right</td>\n",
       "      <td>182.333333</td>\n",
       "      <td>82.000000</td>\n",
       "      <td>29.0</td>\n",
       "      <td>20.0</td>\n",
       "      <td>13.7</td>\n",
       "      <td>223.8</td>\n",
       "      <td>55.5</td>\n",
       "    </tr>\n",
       "    <tr>\n",
       "      <th>3</th>\n",
       "      <td>104</td>\n",
       "      <td>Male</td>\n",
       "      <td>NaN</td>\n",
       "      <td>Right</td>\n",
       "      <td>184.000000</td>\n",
       "      <td>75.000000</td>\n",
       "      <td>29.0</td>\n",
       "      <td>23.2</td>\n",
       "      <td>14.0</td>\n",
       "      <td>281.8</td>\n",
       "      <td>63.3</td>\n",
       "    </tr>\n",
       "    <tr>\n",
       "      <th>4</th>\n",
       "      <td>105</td>\n",
       "      <td>Male</td>\n",
       "      <td>18.0</td>\n",
       "      <td>Right</td>\n",
       "      <td>180.666667</td>\n",
       "      <td>80.333333</td>\n",
       "      <td>29.0</td>\n",
       "      <td>22.7</td>\n",
       "      <td>15.0</td>\n",
       "      <td>286.7</td>\n",
       "      <td>62.7</td>\n",
       "    </tr>\n",
       "    <tr>\n",
       "      <th>5</th>\n",
       "      <td>106</td>\n",
       "      <td>Male</td>\n",
       "      <td>20.0</td>\n",
       "      <td>Right</td>\n",
       "      <td>180.000000</td>\n",
       "      <td>59.000000</td>\n",
       "      <td>32.0</td>\n",
       "      <td>24.3</td>\n",
       "      <td>14.0</td>\n",
       "      <td>299.0</td>\n",
       "      <td>65.6</td>\n",
       "    </tr>\n",
       "    <tr>\n",
       "      <th>6</th>\n",
       "      <td>107</td>\n",
       "      <td>Female</td>\n",
       "      <td>NaN</td>\n",
       "      <td>Right</td>\n",
       "      <td>169.666667</td>\n",
       "      <td>71.000000</td>\n",
       "      <td>28.0</td>\n",
       "      <td>20.0</td>\n",
       "      <td>15.0</td>\n",
       "      <td>252.7</td>\n",
       "      <td>58.0</td>\n",
       "    </tr>\n",
       "    <tr>\n",
       "      <th>7</th>\n",
       "      <td>108</td>\n",
       "      <td>Male</td>\n",
       "      <td>NaN</td>\n",
       "      <td>Right</td>\n",
       "      <td>192.000000</td>\n",
       "      <td>81.000000</td>\n",
       "      <td>28.0</td>\n",
       "      <td>20.6</td>\n",
       "      <td>13.4</td>\n",
       "      <td>238.6</td>\n",
       "      <td>58.0</td>\n",
       "    </tr>\n",
       "    <tr>\n",
       "      <th>8</th>\n",
       "      <td>109</td>\n",
       "      <td>Male</td>\n",
       "      <td>NaN</td>\n",
       "      <td>Right</td>\n",
       "      <td>186.666667</td>\n",
       "      <td>74.000000</td>\n",
       "      <td>26.0</td>\n",
       "      <td>24.1</td>\n",
       "      <td>16.3</td>\n",
       "      <td>333.2</td>\n",
       "      <td>67.6</td>\n",
       "    </tr>\n",
       "    <tr>\n",
       "      <th>9</th>\n",
       "      <td>110</td>\n",
       "      <td>Male</td>\n",
       "      <td>NaN</td>\n",
       "      <td>Right</td>\n",
       "      <td>187.666667</td>\n",
       "      <td>85.000000</td>\n",
       "      <td>32.0</td>\n",
       "      <td>22.6</td>\n",
       "      <td>14.6</td>\n",
       "      <td>286.2</td>\n",
       "      <td>63.6</td>\n",
       "    </tr>\n",
       "  </tbody>\n",
       "</table>\n",
       "</div>"
      ],
      "text/plain": [
       "   Participant Number  Gender   Age Dominant Hand  \\\n",
       "0                 101    Male   NaN         Right   \n",
       "1                 102    Male   NaN         Right   \n",
       "2                 103    Male   NaN         Right   \n",
       "3                 104    Male   NaN         Right   \n",
       "4                 105    Male  18.0         Right   \n",
       "5                 106    Male  20.0         Right   \n",
       "6                 107  Female   NaN         Right   \n",
       "7                 108    Male   NaN         Right   \n",
       "8                 109    Male   NaN         Right   \n",
       "9                 110    Male   NaN         Right   \n",
       "\n",
       "   Height (cm) (average of 3 measurments)  \\\n",
       "0                              174.000000   \n",
       "1                              202.000000   \n",
       "2                              182.333333   \n",
       "3                              184.000000   \n",
       "4                              180.666667   \n",
       "5                              180.000000   \n",
       "6                              169.666667   \n",
       "7                              192.000000   \n",
       "8                              186.666667   \n",
       "9                              187.666667   \n",
       "\n",
       "   Weight (kg) (average of 3 measurements)  Fingertip Temperature (°C)  \\\n",
       "0                                70.000000                        34.0   \n",
       "1                                99.000000                        30.0   \n",
       "2                                82.000000                        29.0   \n",
       "3                                75.000000                        29.0   \n",
       "4                                80.333333                        29.0   \n",
       "5                                59.000000                        32.0   \n",
       "6                                71.000000                        28.0   \n",
       "7                                81.000000                        28.0   \n",
       "8                                74.000000                        26.0   \n",
       "9                                85.000000                        32.0   \n",
       "\n",
       "   Fingerprint Height (mm)  Fingerprint Width (mm)  Fingerprint Area (mm2)  \\\n",
       "0                     19.8                    13.7                   240.6   \n",
       "1                     24.0                    14.1                   278.8   \n",
       "2                     20.0                    13.7                   223.8   \n",
       "3                     23.2                    14.0                   281.8   \n",
       "4                     22.7                    15.0                   286.7   \n",
       "5                     24.3                    14.0                   299.0   \n",
       "6                     20.0                    15.0                   252.7   \n",
       "7                     20.6                    13.4                   238.6   \n",
       "8                     24.1                    16.3                   333.2   \n",
       "9                     22.6                    14.6                   286.2   \n",
       "\n",
       "   Fingerprint Circumference (mm)  \n",
       "0                            57.7  \n",
       "1                            62.7  \n",
       "2                            55.5  \n",
       "3                            63.3  \n",
       "4                            62.7  \n",
       "5                            65.6  \n",
       "6                            58.0  \n",
       "7                            58.0  \n",
       "8                            67.6  \n",
       "9                            63.6  "
      ]
     },
     "execution_count": 4,
     "metadata": {},
     "output_type": "execute_result"
    }
   ],
   "source": [
    "# Importing Database\n",
    "df = pd.read_excel('200_participant_collected_data.xlsx')\n",
    "df.head(10)"
   ]
  },
  {
   "cell_type": "code",
   "execution_count": 5,
   "id": "9830079e",
   "metadata": {},
   "outputs": [
    {
     "data": {
      "text/html": [
       "<div>\n",
       "<style scoped>\n",
       "    .dataframe tbody tr th:only-of-type {\n",
       "        vertical-align: middle;\n",
       "    }\n",
       "\n",
       "    .dataframe tbody tr th {\n",
       "        vertical-align: top;\n",
       "    }\n",
       "\n",
       "    .dataframe thead th {\n",
       "        text-align: right;\n",
       "    }\n",
       "</style>\n",
       "<table border=\"1\" class=\"dataframe\">\n",
       "  <thead>\n",
       "    <tr style=\"text-align: right;\">\n",
       "      <th></th>\n",
       "      <th>Participant Number</th>\n",
       "      <th>Age</th>\n",
       "      <th>Height (cm) (average of 3 measurments)</th>\n",
       "      <th>Weight (kg) (average of 3 measurements)</th>\n",
       "      <th>Fingertip Temperature (°C)</th>\n",
       "      <th>Fingerprint Height (mm)</th>\n",
       "      <th>Fingerprint Width (mm)</th>\n",
       "      <th>Fingerprint Area (mm2)</th>\n",
       "      <th>Fingerprint Circumference (mm)</th>\n",
       "    </tr>\n",
       "  </thead>\n",
       "  <tbody>\n",
       "    <tr>\n",
       "      <th>count</th>\n",
       "      <td>200.000000</td>\n",
       "      <td>180.000000</td>\n",
       "      <td>200.000000</td>\n",
       "      <td>200.000000</td>\n",
       "      <td>184.000000</td>\n",
       "      <td>200.000000</td>\n",
       "      <td>200.000000</td>\n",
       "      <td>200.00000</td>\n",
       "      <td>200.0000</td>\n",
       "    </tr>\n",
       "    <tr>\n",
       "      <th>mean</th>\n",
       "      <td>200.500000</td>\n",
       "      <td>21.227778</td>\n",
       "      <td>173.170000</td>\n",
       "      <td>72.635000</td>\n",
       "      <td>28.690217</td>\n",
       "      <td>20.363500</td>\n",
       "      <td>13.487000</td>\n",
       "      <td>233.55300</td>\n",
       "      <td>56.5745</td>\n",
       "    </tr>\n",
       "    <tr>\n",
       "      <th>std</th>\n",
       "      <td>57.879185</td>\n",
       "      <td>4.728176</td>\n",
       "      <td>9.495657</td>\n",
       "      <td>14.245734</td>\n",
       "      <td>3.375695</td>\n",
       "      <td>2.032331</td>\n",
       "      <td>1.471754</td>\n",
       "      <td>43.52727</td>\n",
       "      <td>5.3133</td>\n",
       "    </tr>\n",
       "    <tr>\n",
       "      <th>min</th>\n",
       "      <td>101.000000</td>\n",
       "      <td>18.000000</td>\n",
       "      <td>148.000000</td>\n",
       "      <td>44.000000</td>\n",
       "      <td>22.000000</td>\n",
       "      <td>15.600000</td>\n",
       "      <td>9.900000</td>\n",
       "      <td>140.00000</td>\n",
       "      <td>44.2000</td>\n",
       "    </tr>\n",
       "    <tr>\n",
       "      <th>25%</th>\n",
       "      <td>150.750000</td>\n",
       "      <td>19.000000</td>\n",
       "      <td>167.250000</td>\n",
       "      <td>61.000000</td>\n",
       "      <td>26.000000</td>\n",
       "      <td>19.000000</td>\n",
       "      <td>12.300000</td>\n",
       "      <td>199.65000</td>\n",
       "      <td>52.6750</td>\n",
       "    </tr>\n",
       "    <tr>\n",
       "      <th>50%</th>\n",
       "      <td>200.500000</td>\n",
       "      <td>20.000000</td>\n",
       "      <td>173.000000</td>\n",
       "      <td>71.333333</td>\n",
       "      <td>29.000000</td>\n",
       "      <td>20.450000</td>\n",
       "      <td>13.600000</td>\n",
       "      <td>232.70000</td>\n",
       "      <td>56.6500</td>\n",
       "    </tr>\n",
       "    <tr>\n",
       "      <th>75%</th>\n",
       "      <td>250.250000</td>\n",
       "      <td>22.000000</td>\n",
       "      <td>180.000000</td>\n",
       "      <td>80.083333</td>\n",
       "      <td>31.000000</td>\n",
       "      <td>21.925000</td>\n",
       "      <td>14.500000</td>\n",
       "      <td>267.47500</td>\n",
       "      <td>60.7250</td>\n",
       "    </tr>\n",
       "    <tr>\n",
       "      <th>max</th>\n",
       "      <td>300.000000</td>\n",
       "      <td>56.000000</td>\n",
       "      <td>202.000000</td>\n",
       "      <td>122.666667</td>\n",
       "      <td>35.000000</td>\n",
       "      <td>25.800000</td>\n",
       "      <td>17.100000</td>\n",
       "      <td>358.90000</td>\n",
       "      <td>70.5000</td>\n",
       "    </tr>\n",
       "  </tbody>\n",
       "</table>\n",
       "</div>"
      ],
      "text/plain": [
       "       Participant Number         Age  Height (cm) (average of 3 measurments)  \\\n",
       "count          200.000000  180.000000                              200.000000   \n",
       "mean           200.500000   21.227778                              173.170000   \n",
       "std             57.879185    4.728176                                9.495657   \n",
       "min            101.000000   18.000000                              148.000000   \n",
       "25%            150.750000   19.000000                              167.250000   \n",
       "50%            200.500000   20.000000                              173.000000   \n",
       "75%            250.250000   22.000000                              180.000000   \n",
       "max            300.000000   56.000000                              202.000000   \n",
       "\n",
       "       Weight (kg) (average of 3 measurements)  Fingertip Temperature (°C)  \\\n",
       "count                               200.000000                  184.000000   \n",
       "mean                                 72.635000                   28.690217   \n",
       "std                                  14.245734                    3.375695   \n",
       "min                                  44.000000                   22.000000   \n",
       "25%                                  61.000000                   26.000000   \n",
       "50%                                  71.333333                   29.000000   \n",
       "75%                                  80.083333                   31.000000   \n",
       "max                                 122.666667                   35.000000   \n",
       "\n",
       "       Fingerprint Height (mm)  Fingerprint Width (mm)  \\\n",
       "count               200.000000              200.000000   \n",
       "mean                 20.363500               13.487000   \n",
       "std                   2.032331                1.471754   \n",
       "min                  15.600000                9.900000   \n",
       "25%                  19.000000               12.300000   \n",
       "50%                  20.450000               13.600000   \n",
       "75%                  21.925000               14.500000   \n",
       "max                  25.800000               17.100000   \n",
       "\n",
       "       Fingerprint Area (mm2)  Fingerprint Circumference (mm)  \n",
       "count               200.00000                        200.0000  \n",
       "mean                233.55300                         56.5745  \n",
       "std                  43.52727                          5.3133  \n",
       "min                 140.00000                         44.2000  \n",
       "25%                 199.65000                         52.6750  \n",
       "50%                 232.70000                         56.6500  \n",
       "75%                 267.47500                         60.7250  \n",
       "max                 358.90000                         70.5000  "
      ]
     },
     "execution_count": 5,
     "metadata": {},
     "output_type": "execute_result"
    }
   ],
   "source": [
    "df.describe()"
   ]
  },
  {
   "cell_type": "code",
   "execution_count": 6,
   "id": "97f7c086",
   "metadata": {},
   "outputs": [
    {
     "data": {
      "text/html": [
       "<div>\n",
       "<style scoped>\n",
       "    .dataframe tbody tr th:only-of-type {\n",
       "        vertical-align: middle;\n",
       "    }\n",
       "\n",
       "    .dataframe tbody tr th {\n",
       "        vertical-align: top;\n",
       "    }\n",
       "\n",
       "    .dataframe thead th {\n",
       "        text-align: right;\n",
       "    }\n",
       "</style>\n",
       "<table border=\"1\" class=\"dataframe\">\n",
       "  <thead>\n",
       "    <tr style=\"text-align: right;\">\n",
       "      <th></th>\n",
       "      <th>Participant Number</th>\n",
       "      <th>Age</th>\n",
       "      <th>Height (cm) (average of 3 measurments)</th>\n",
       "      <th>Weight (kg) (average of 3 measurements)</th>\n",
       "      <th>Fingertip Temperature (°C)</th>\n",
       "      <th>Fingerprint Height (mm)</th>\n",
       "      <th>Fingerprint Width (mm)</th>\n",
       "      <th>Fingerprint Area (mm2)</th>\n",
       "      <th>Fingerprint Circumference (mm)</th>\n",
       "    </tr>\n",
       "  </thead>\n",
       "  <tbody>\n",
       "    <tr>\n",
       "      <th>count</th>\n",
       "      <td>113.000000</td>\n",
       "      <td>103.000000</td>\n",
       "      <td>113.000000</td>\n",
       "      <td>113.000000</td>\n",
       "      <td>104.000000</td>\n",
       "      <td>113.000000</td>\n",
       "      <td>113.000000</td>\n",
       "      <td>113.000000</td>\n",
       "      <td>113.000000</td>\n",
       "    </tr>\n",
       "    <tr>\n",
       "      <th>mean</th>\n",
       "      <td>201.504425</td>\n",
       "      <td>21.106796</td>\n",
       "      <td>178.474926</td>\n",
       "      <td>78.115044</td>\n",
       "      <td>29.038462</td>\n",
       "      <td>21.315929</td>\n",
       "      <td>14.309735</td>\n",
       "      <td>258.111504</td>\n",
       "      <td>59.562832</td>\n",
       "    </tr>\n",
       "    <tr>\n",
       "      <th>std</th>\n",
       "      <td>56.473465</td>\n",
       "      <td>3.217332</td>\n",
       "      <td>7.018796</td>\n",
       "      <td>11.881589</td>\n",
       "      <td>3.375880</td>\n",
       "      <td>1.601203</td>\n",
       "      <td>1.060994</td>\n",
       "      <td>31.758347</td>\n",
       "      <td>3.797231</td>\n",
       "    </tr>\n",
       "    <tr>\n",
       "      <th>min</th>\n",
       "      <td>101.000000</td>\n",
       "      <td>18.000000</td>\n",
       "      <td>164.000000</td>\n",
       "      <td>56.000000</td>\n",
       "      <td>22.000000</td>\n",
       "      <td>17.400000</td>\n",
       "      <td>12.000000</td>\n",
       "      <td>194.500000</td>\n",
       "      <td>51.800000</td>\n",
       "    </tr>\n",
       "    <tr>\n",
       "      <th>25%</th>\n",
       "      <td>156.000000</td>\n",
       "      <td>19.000000</td>\n",
       "      <td>173.000000</td>\n",
       "      <td>69.333333</td>\n",
       "      <td>26.750000</td>\n",
       "      <td>20.100000</td>\n",
       "      <td>13.600000</td>\n",
       "      <td>234.800000</td>\n",
       "      <td>56.800000</td>\n",
       "    </tr>\n",
       "    <tr>\n",
       "      <th>50%</th>\n",
       "      <td>209.000000</td>\n",
       "      <td>21.000000</td>\n",
       "      <td>177.666667</td>\n",
       "      <td>76.666667</td>\n",
       "      <td>30.000000</td>\n",
       "      <td>21.200000</td>\n",
       "      <td>14.200000</td>\n",
       "      <td>255.000000</td>\n",
       "      <td>59.500000</td>\n",
       "    </tr>\n",
       "    <tr>\n",
       "      <th>75%</th>\n",
       "      <td>248.000000</td>\n",
       "      <td>22.000000</td>\n",
       "      <td>183.666667</td>\n",
       "      <td>85.666667</td>\n",
       "      <td>31.250000</td>\n",
       "      <td>22.300000</td>\n",
       "      <td>14.900000</td>\n",
       "      <td>282.200000</td>\n",
       "      <td>62.400000</td>\n",
       "    </tr>\n",
       "    <tr>\n",
       "      <th>max</th>\n",
       "      <td>299.000000</td>\n",
       "      <td>41.000000</td>\n",
       "      <td>202.000000</td>\n",
       "      <td>112.000000</td>\n",
       "      <td>35.000000</td>\n",
       "      <td>25.800000</td>\n",
       "      <td>17.100000</td>\n",
       "      <td>358.900000</td>\n",
       "      <td>70.500000</td>\n",
       "    </tr>\n",
       "  </tbody>\n",
       "</table>\n",
       "</div>"
      ],
      "text/plain": [
       "       Participant Number         Age  Height (cm) (average of 3 measurments)  \\\n",
       "count          113.000000  103.000000                              113.000000   \n",
       "mean           201.504425   21.106796                              178.474926   \n",
       "std             56.473465    3.217332                                7.018796   \n",
       "min            101.000000   18.000000                              164.000000   \n",
       "25%            156.000000   19.000000                              173.000000   \n",
       "50%            209.000000   21.000000                              177.666667   \n",
       "75%            248.000000   22.000000                              183.666667   \n",
       "max            299.000000   41.000000                              202.000000   \n",
       "\n",
       "       Weight (kg) (average of 3 measurements)  Fingertip Temperature (°C)  \\\n",
       "count                               113.000000                  104.000000   \n",
       "mean                                 78.115044                   29.038462   \n",
       "std                                  11.881589                    3.375880   \n",
       "min                                  56.000000                   22.000000   \n",
       "25%                                  69.333333                   26.750000   \n",
       "50%                                  76.666667                   30.000000   \n",
       "75%                                  85.666667                   31.250000   \n",
       "max                                 112.000000                   35.000000   \n",
       "\n",
       "       Fingerprint Height (mm)  Fingerprint Width (mm)  \\\n",
       "count               113.000000              113.000000   \n",
       "mean                 21.315929               14.309735   \n",
       "std                   1.601203                1.060994   \n",
       "min                  17.400000               12.000000   \n",
       "25%                  20.100000               13.600000   \n",
       "50%                  21.200000               14.200000   \n",
       "75%                  22.300000               14.900000   \n",
       "max                  25.800000               17.100000   \n",
       "\n",
       "       Fingerprint Area (mm2)  Fingerprint Circumference (mm)  \n",
       "count              113.000000                      113.000000  \n",
       "mean               258.111504                       59.562832  \n",
       "std                 31.758347                        3.797231  \n",
       "min                194.500000                       51.800000  \n",
       "25%                234.800000                       56.800000  \n",
       "50%                255.000000                       59.500000  \n",
       "75%                282.200000                       62.400000  \n",
       "max                358.900000                       70.500000  "
      ]
     },
     "execution_count": 6,
     "metadata": {},
     "output_type": "execute_result"
    }
   ],
   "source": [
    "df.loc[df['Gender'] == 'Male'].describe()"
   ]
  },
  {
   "cell_type": "code",
   "execution_count": 7,
   "id": "6841bbb8",
   "metadata": {},
   "outputs": [
    {
     "data": {
      "text/html": [
       "<div>\n",
       "<style scoped>\n",
       "    .dataframe tbody tr th:only-of-type {\n",
       "        vertical-align: middle;\n",
       "    }\n",
       "\n",
       "    .dataframe tbody tr th {\n",
       "        vertical-align: top;\n",
       "    }\n",
       "\n",
       "    .dataframe thead th {\n",
       "        text-align: right;\n",
       "    }\n",
       "</style>\n",
       "<table border=\"1\" class=\"dataframe\">\n",
       "  <thead>\n",
       "    <tr style=\"text-align: right;\">\n",
       "      <th></th>\n",
       "      <th>Participant Number</th>\n",
       "      <th>Age</th>\n",
       "      <th>Height (cm) (average of 3 measurments)</th>\n",
       "      <th>Weight (kg) (average of 3 measurements)</th>\n",
       "      <th>Fingertip Temperature (°C)</th>\n",
       "      <th>Fingerprint Height (mm)</th>\n",
       "      <th>Fingerprint Width (mm)</th>\n",
       "      <th>Fingerprint Area (mm2)</th>\n",
       "      <th>Fingerprint Circumference (mm)</th>\n",
       "    </tr>\n",
       "  </thead>\n",
       "  <tbody>\n",
       "    <tr>\n",
       "      <th>count</th>\n",
       "      <td>83.000000</td>\n",
       "      <td>73.000000</td>\n",
       "      <td>83.000000</td>\n",
       "      <td>83.000000</td>\n",
       "      <td>76.000000</td>\n",
       "      <td>83.000000</td>\n",
       "      <td>83.000000</td>\n",
       "      <td>83.000000</td>\n",
       "      <td>83.000000</td>\n",
       "    </tr>\n",
       "    <tr>\n",
       "      <th>mean</th>\n",
       "      <td>199.855422</td>\n",
       "      <td>21.424658</td>\n",
       "      <td>165.827309</td>\n",
       "      <td>64.807229</td>\n",
       "      <td>28.289474</td>\n",
       "      <td>19.033735</td>\n",
       "      <td>12.316867</td>\n",
       "      <td>198.837349</td>\n",
       "      <td>52.421687</td>\n",
       "    </tr>\n",
       "    <tr>\n",
       "      <th>std</th>\n",
       "      <td>61.282459</td>\n",
       "      <td>6.387744</td>\n",
       "      <td>7.485915</td>\n",
       "      <td>13.455046</td>\n",
       "      <td>3.273391</td>\n",
       "      <td>1.757581</td>\n",
       "      <td>1.146875</td>\n",
       "      <td>31.959814</td>\n",
       "      <td>4.230668</td>\n",
       "    </tr>\n",
       "    <tr>\n",
       "      <th>min</th>\n",
       "      <td>107.000000</td>\n",
       "      <td>18.000000</td>\n",
       "      <td>148.000000</td>\n",
       "      <td>44.000000</td>\n",
       "      <td>22.000000</td>\n",
       "      <td>15.600000</td>\n",
       "      <td>9.900000</td>\n",
       "      <td>140.000000</td>\n",
       "      <td>44.200000</td>\n",
       "    </tr>\n",
       "    <tr>\n",
       "      <th>25%</th>\n",
       "      <td>146.500000</td>\n",
       "      <td>19.000000</td>\n",
       "      <td>161.166667</td>\n",
       "      <td>56.000000</td>\n",
       "      <td>26.000000</td>\n",
       "      <td>17.500000</td>\n",
       "      <td>11.600000</td>\n",
       "      <td>175.800000</td>\n",
       "      <td>49.350000</td>\n",
       "    </tr>\n",
       "    <tr>\n",
       "      <th>50%</th>\n",
       "      <td>187.000000</td>\n",
       "      <td>19.000000</td>\n",
       "      <td>166.000000</td>\n",
       "      <td>61.000000</td>\n",
       "      <td>29.000000</td>\n",
       "      <td>19.000000</td>\n",
       "      <td>12.100000</td>\n",
       "      <td>196.000000</td>\n",
       "      <td>51.900000</td>\n",
       "    </tr>\n",
       "    <tr>\n",
       "      <th>75%</th>\n",
       "      <td>263.500000</td>\n",
       "      <td>21.000000</td>\n",
       "      <td>170.000000</td>\n",
       "      <td>71.166667</td>\n",
       "      <td>31.000000</td>\n",
       "      <td>20.400000</td>\n",
       "      <td>12.950000</td>\n",
       "      <td>213.050000</td>\n",
       "      <td>54.700000</td>\n",
       "    </tr>\n",
       "    <tr>\n",
       "      <th>max</th>\n",
       "      <td>300.000000</td>\n",
       "      <td>56.000000</td>\n",
       "      <td>185.666667</td>\n",
       "      <td>122.666667</td>\n",
       "      <td>34.000000</td>\n",
       "      <td>23.900000</td>\n",
       "      <td>15.800000</td>\n",
       "      <td>285.600000</td>\n",
       "      <td>63.600000</td>\n",
       "    </tr>\n",
       "  </tbody>\n",
       "</table>\n",
       "</div>"
      ],
      "text/plain": [
       "       Participant Number        Age  Height (cm) (average of 3 measurments)  \\\n",
       "count           83.000000  73.000000                               83.000000   \n",
       "mean           199.855422  21.424658                              165.827309   \n",
       "std             61.282459   6.387744                                7.485915   \n",
       "min            107.000000  18.000000                              148.000000   \n",
       "25%            146.500000  19.000000                              161.166667   \n",
       "50%            187.000000  19.000000                              166.000000   \n",
       "75%            263.500000  21.000000                              170.000000   \n",
       "max            300.000000  56.000000                              185.666667   \n",
       "\n",
       "       Weight (kg) (average of 3 measurements)  Fingertip Temperature (°C)  \\\n",
       "count                                83.000000                   76.000000   \n",
       "mean                                 64.807229                   28.289474   \n",
       "std                                  13.455046                    3.273391   \n",
       "min                                  44.000000                   22.000000   \n",
       "25%                                  56.000000                   26.000000   \n",
       "50%                                  61.000000                   29.000000   \n",
       "75%                                  71.166667                   31.000000   \n",
       "max                                 122.666667                   34.000000   \n",
       "\n",
       "       Fingerprint Height (mm)  Fingerprint Width (mm)  \\\n",
       "count                83.000000               83.000000   \n",
       "mean                 19.033735               12.316867   \n",
       "std                   1.757581                1.146875   \n",
       "min                  15.600000                9.900000   \n",
       "25%                  17.500000               11.600000   \n",
       "50%                  19.000000               12.100000   \n",
       "75%                  20.400000               12.950000   \n",
       "max                  23.900000               15.800000   \n",
       "\n",
       "       Fingerprint Area (mm2)  Fingerprint Circumference (mm)  \n",
       "count               83.000000                       83.000000  \n",
       "mean               198.837349                       52.421687  \n",
       "std                 31.959814                        4.230668  \n",
       "min                140.000000                       44.200000  \n",
       "25%                175.800000                       49.350000  \n",
       "50%                196.000000                       51.900000  \n",
       "75%                213.050000                       54.700000  \n",
       "max                285.600000                       63.600000  "
      ]
     },
     "execution_count": 7,
     "metadata": {},
     "output_type": "execute_result"
    }
   ],
   "source": [
    "df.loc[df['Gender'] == 'Female'].describe()"
   ]
  },
  {
   "cell_type": "code",
   "execution_count": null,
   "id": "53f78792",
   "metadata": {},
   "outputs": [],
   "source": []
  },
  {
   "cell_type": "markdown",
   "id": "9049c833",
   "metadata": {},
   "source": [
    "- ### Cleaning and Adptating the Dataset"
   ]
  },
  {
   "cell_type": "markdown",
   "id": "ec4ae763",
   "metadata": {},
   "source": [
    "Looking at the two describe commands above, we are able to see that the number of rows on the male and female database slices does not add up to 200, which is the total amount of rows from the original dataframe. This happens because some of the male gender field are written in lower case. "
   ]
  },
  {
   "cell_type": "code",
   "execution_count": 8,
   "id": "9a69ae4f",
   "metadata": {},
   "outputs": [
    {
     "data": {
      "text/html": [
       "<div>\n",
       "<style scoped>\n",
       "    .dataframe tbody tr th:only-of-type {\n",
       "        vertical-align: middle;\n",
       "    }\n",
       "\n",
       "    .dataframe tbody tr th {\n",
       "        vertical-align: top;\n",
       "    }\n",
       "\n",
       "    .dataframe thead th {\n",
       "        text-align: right;\n",
       "    }\n",
       "</style>\n",
       "<table border=\"1\" class=\"dataframe\">\n",
       "  <thead>\n",
       "    <tr style=\"text-align: right;\">\n",
       "      <th></th>\n",
       "      <th>Participant Number</th>\n",
       "      <th>Gender</th>\n",
       "      <th>Age</th>\n",
       "      <th>Dominant Hand</th>\n",
       "      <th>Height (cm) (average of 3 measurments)</th>\n",
       "      <th>Weight (kg) (average of 3 measurements)</th>\n",
       "      <th>Fingertip Temperature (°C)</th>\n",
       "      <th>Fingerprint Height (mm)</th>\n",
       "      <th>Fingerprint Width (mm)</th>\n",
       "      <th>Fingerprint Area (mm2)</th>\n",
       "      <th>Fingerprint Circumference (mm)</th>\n",
       "    </tr>\n",
       "  </thead>\n",
       "  <tbody>\n",
       "    <tr>\n",
       "      <th>72</th>\n",
       "      <td>173</td>\n",
       "      <td>male</td>\n",
       "      <td>22.0</td>\n",
       "      <td>right</td>\n",
       "      <td>174.000000</td>\n",
       "      <td>102.000000</td>\n",
       "      <td>28.0</td>\n",
       "      <td>22.3</td>\n",
       "      <td>14.6</td>\n",
       "      <td>274.6</td>\n",
       "      <td>62.2</td>\n",
       "    </tr>\n",
       "    <tr>\n",
       "      <th>76</th>\n",
       "      <td>177</td>\n",
       "      <td>male</td>\n",
       "      <td>21.0</td>\n",
       "      <td>right</td>\n",
       "      <td>186.000000</td>\n",
       "      <td>87.666667</td>\n",
       "      <td>34.0</td>\n",
       "      <td>24.8</td>\n",
       "      <td>15.8</td>\n",
       "      <td>332.6</td>\n",
       "      <td>63.4</td>\n",
       "    </tr>\n",
       "    <tr>\n",
       "      <th>94</th>\n",
       "      <td>195</td>\n",
       "      <td>male</td>\n",
       "      <td>20.0</td>\n",
       "      <td>right</td>\n",
       "      <td>170.000000</td>\n",
       "      <td>60.000000</td>\n",
       "      <td>23.0</td>\n",
       "      <td>19.6</td>\n",
       "      <td>13.6</td>\n",
       "      <td>222.2</td>\n",
       "      <td>54.8</td>\n",
       "    </tr>\n",
       "    <tr>\n",
       "      <th>96</th>\n",
       "      <td>197</td>\n",
       "      <td>male</td>\n",
       "      <td>20.0</td>\n",
       "      <td>right</td>\n",
       "      <td>172.666667</td>\n",
       "      <td>71.333333</td>\n",
       "      <td>24.0</td>\n",
       "      <td>17.5</td>\n",
       "      <td>14.1</td>\n",
       "      <td>211.1</td>\n",
       "      <td>52.9</td>\n",
       "    </tr>\n",
       "  </tbody>\n",
       "</table>\n",
       "</div>"
      ],
      "text/plain": [
       "    Participant Number Gender   Age Dominant Hand  \\\n",
       "72                 173   male  22.0         right   \n",
       "76                 177   male  21.0         right   \n",
       "94                 195   male  20.0         right   \n",
       "96                 197   male  20.0         right   \n",
       "\n",
       "    Height (cm) (average of 3 measurments)  \\\n",
       "72                              174.000000   \n",
       "76                              186.000000   \n",
       "94                              170.000000   \n",
       "96                              172.666667   \n",
       "\n",
       "    Weight (kg) (average of 3 measurements)  Fingertip Temperature (°C)  \\\n",
       "72                               102.000000                        28.0   \n",
       "76                                87.666667                        34.0   \n",
       "94                                60.000000                        23.0   \n",
       "96                                71.333333                        24.0   \n",
       "\n",
       "    Fingerprint Height (mm)  Fingerprint Width (mm)  Fingerprint Area (mm2)  \\\n",
       "72                     22.3                    14.6                   274.6   \n",
       "76                     24.8                    15.8                   332.6   \n",
       "94                     19.6                    13.6                   222.2   \n",
       "96                     17.5                    14.1                   211.1   \n",
       "\n",
       "    Fingerprint Circumference (mm)  \n",
       "72                            62.2  \n",
       "76                            63.4  \n",
       "94                            54.8  \n",
       "96                            52.9  "
      ]
     },
     "execution_count": 8,
     "metadata": {},
     "output_type": "execute_result"
    }
   ],
   "source": [
    "df.loc[df['Gender'] == 'male']"
   ]
  },
  {
   "cell_type": "code",
   "execution_count": 9,
   "id": "4079d6db",
   "metadata": {},
   "outputs": [
    {
     "name": "stderr",
     "output_type": "stream",
     "text": [
      "C:\\Users\\renan\\AppData\\Local\\Temp\\ipykernel_28728\\6966063.py:2: SettingWithCopyWarning: \n",
      "A value is trying to be set on a copy of a slice from a DataFrame\n",
      "\n",
      "See the caveats in the documentation: https://pandas.pydata.org/pandas-docs/stable/user_guide/indexing.html#returning-a-view-versus-a-copy\n",
      "  df['Gender'].loc[df['Gender'] == 'male'] = 'Male'\n"
     ]
    }
   ],
   "source": [
    "# Fixing the spelling\n",
    "df['Gender'].loc[df['Gender'] == 'male'] = 'Male'"
   ]
  },
  {
   "cell_type": "markdown",
   "id": "4a62df0d",
   "metadata": {},
   "source": [
    "Since we will only be looking at an individual height, weight, and gender we are going to drop all the other columns. However, this dataset does not have the individuals BMI but since we know how to calculate it we are going to create a new column and populate it with their BMI values"
   ]
  },
  {
   "cell_type": "code",
   "execution_count": 10,
   "id": "29cf0fbb",
   "metadata": {},
   "outputs": [],
   "source": [
    "# Cleaning the columns that we are not going to use and renaming the height and weight columns\n",
    "df = df.drop(columns=['Participant Number', 'Age','Dominant Hand', 'Fingertip Temperature (°C)', 'Fingerprint Height (mm)','Fingerprint Width (mm)', 'Fingerprint Area (mm2)', 'Fingerprint Circumference (mm)'])\n",
    "df.rename(columns={'Height (cm) (average of 3 measurments)': 'Height', 'Weight (kg) (average of 3 measurements)': 'Weight'}, inplace=True)"
   ]
  },
  {
   "cell_type": "markdown",
   "id": "8eda5e2f",
   "metadata": {},
   "source": [
    "After dropping the columns that we dont need, we are going to check if there is any empty cells"
   ]
  },
  {
   "cell_type": "code",
   "execution_count": 11,
   "id": "012ef4a2",
   "metadata": {},
   "outputs": [
    {
     "data": {
      "text/plain": [
       "0"
      ]
     },
     "execution_count": 11,
     "metadata": {},
     "output_type": "execute_result"
    }
   ],
   "source": [
    "#Checking if there is any Null value\n",
    "df.isnull().values.sum()"
   ]
  },
  {
   "cell_type": "markdown",
   "id": "d3c8a96d",
   "metadata": {},
   "source": [
    "Calculating the BMI for males and females individuals using the BMI formula:  \n",
    "<br>\n",
    "$$ {Weight[kg] \\over (Height[cm]/100)^2} $$"
   ]
  },
  {
   "cell_type": "code",
   "execution_count": 12,
   "id": "d2a933be",
   "metadata": {},
   "outputs": [],
   "source": [
    "# Calculating the BMI of Males (Dividing the Height by 100 to convert from cm to m)\n",
    "male_height = df['Height'].loc[df['Gender'] == 'Male']\n",
    "male_weight =df['Weight'].loc[df['Gender'] == 'Male'] \n",
    "bmi_males = male_weight / (male_height/100)**2\n"
   ]
  },
  {
   "cell_type": "code",
   "execution_count": 13,
   "id": "4c12c38b",
   "metadata": {},
   "outputs": [],
   "source": [
    "# Calculating the BMI of Females (Dividing the Height by 100 to convert from cm to m)\n",
    "female_height = df['Height'].loc[df['Gender'] == 'Female']\n",
    "female_weight =df['Weight'].loc[df['Gender'] == 'Female'] \n",
    "bmi_female = female_weight / (female_height/100)**2\n"
   ]
  },
  {
   "cell_type": "markdown",
   "id": "f552f57e",
   "metadata": {},
   "source": [
    "After calculating the BMI we will create a new column named <i>BMI<i> and add the values from males and females to this column. "
   ]
  },
  {
   "cell_type": "code",
   "execution_count": 14,
   "id": "2c45f69f",
   "metadata": {},
   "outputs": [],
   "source": [
    "# Adding the new BMI column\n",
    "df.insert(3, \"BMI\", 0)"
   ]
  },
  {
   "cell_type": "code",
   "execution_count": 15,
   "id": "345bc5c5",
   "metadata": {},
   "outputs": [
    {
     "name": "stderr",
     "output_type": "stream",
     "text": [
      "C:\\Users\\renan\\AppData\\Local\\Temp\\ipykernel_28728\\2469629272.py:2: SettingWithCopyWarning: \n",
      "A value is trying to be set on a copy of a slice from a DataFrame\n",
      "\n",
      "See the caveats in the documentation: https://pandas.pydata.org/pandas-docs/stable/user_guide/indexing.html#returning-a-view-versus-a-copy\n",
      "  df['BMI'].loc[df['Gender'] == 'Male'] = bmi_males\n"
     ]
    }
   ],
   "source": [
    "#Populating the Males and Females with their BMI value\n",
    "df['BMI'].loc[df['Gender'] == 'Male'] = bmi_males\n",
    "df['BMI'].loc[df['Gender'] == 'Female'] = bmi_female\n"
   ]
  },
  {
   "cell_type": "code",
   "execution_count": 16,
   "id": "d1043d69",
   "metadata": {},
   "outputs": [
    {
     "data": {
      "text/html": [
       "<div>\n",
       "<style scoped>\n",
       "    .dataframe tbody tr th:only-of-type {\n",
       "        vertical-align: middle;\n",
       "    }\n",
       "\n",
       "    .dataframe tbody tr th {\n",
       "        vertical-align: top;\n",
       "    }\n",
       "\n",
       "    .dataframe thead th {\n",
       "        text-align: right;\n",
       "    }\n",
       "</style>\n",
       "<table border=\"1\" class=\"dataframe\">\n",
       "  <thead>\n",
       "    <tr style=\"text-align: right;\">\n",
       "      <th></th>\n",
       "      <th>Gender</th>\n",
       "      <th>Height</th>\n",
       "      <th>Weight</th>\n",
       "      <th>BMI</th>\n",
       "    </tr>\n",
       "  </thead>\n",
       "  <tbody>\n",
       "    <tr>\n",
       "      <th>0</th>\n",
       "      <td>Male</td>\n",
       "      <td>174.000000</td>\n",
       "      <td>70.000000</td>\n",
       "      <td>23.120624</td>\n",
       "    </tr>\n",
       "    <tr>\n",
       "      <th>1</th>\n",
       "      <td>Male</td>\n",
       "      <td>202.000000</td>\n",
       "      <td>99.000000</td>\n",
       "      <td>24.262327</td>\n",
       "    </tr>\n",
       "    <tr>\n",
       "      <th>2</th>\n",
       "      <td>Male</td>\n",
       "      <td>182.333333</td>\n",
       "      <td>82.000000</td>\n",
       "      <td>24.665033</td>\n",
       "    </tr>\n",
       "    <tr>\n",
       "      <th>3</th>\n",
       "      <td>Male</td>\n",
       "      <td>184.000000</td>\n",
       "      <td>75.000000</td>\n",
       "      <td>22.152647</td>\n",
       "    </tr>\n",
       "    <tr>\n",
       "      <th>4</th>\n",
       "      <td>Male</td>\n",
       "      <td>180.666667</td>\n",
       "      <td>80.333333</td>\n",
       "      <td>24.611593</td>\n",
       "    </tr>\n",
       "    <tr>\n",
       "      <th>...</th>\n",
       "      <td>...</td>\n",
       "      <td>...</td>\n",
       "      <td>...</td>\n",
       "      <td>...</td>\n",
       "    </tr>\n",
       "    <tr>\n",
       "      <th>195</th>\n",
       "      <td>Female</td>\n",
       "      <td>164.000000</td>\n",
       "      <td>66.333333</td>\n",
       "      <td>24.662899</td>\n",
       "    </tr>\n",
       "    <tr>\n",
       "      <th>196</th>\n",
       "      <td>Male</td>\n",
       "      <td>172.000000</td>\n",
       "      <td>75.666667</td>\n",
       "      <td>25.576888</td>\n",
       "    </tr>\n",
       "    <tr>\n",
       "      <th>197</th>\n",
       "      <td>Male</td>\n",
       "      <td>174.000000</td>\n",
       "      <td>63.333333</td>\n",
       "      <td>20.918659</td>\n",
       "    </tr>\n",
       "    <tr>\n",
       "      <th>198</th>\n",
       "      <td>Male</td>\n",
       "      <td>174.666667</td>\n",
       "      <td>79.666667</td>\n",
       "      <td>26.112989</td>\n",
       "    </tr>\n",
       "    <tr>\n",
       "      <th>199</th>\n",
       "      <td>Female</td>\n",
       "      <td>165.000000</td>\n",
       "      <td>72.333333</td>\n",
       "      <td>26.568717</td>\n",
       "    </tr>\n",
       "  </tbody>\n",
       "</table>\n",
       "<p>200 rows × 4 columns</p>\n",
       "</div>"
      ],
      "text/plain": [
       "     Gender      Height     Weight        BMI\n",
       "0      Male  174.000000  70.000000  23.120624\n",
       "1      Male  202.000000  99.000000  24.262327\n",
       "2      Male  182.333333  82.000000  24.665033\n",
       "3      Male  184.000000  75.000000  22.152647\n",
       "4      Male  180.666667  80.333333  24.611593\n",
       "..      ...         ...        ...        ...\n",
       "195  Female  164.000000  66.333333  24.662899\n",
       "196    Male  172.000000  75.666667  25.576888\n",
       "197    Male  174.000000  63.333333  20.918659\n",
       "198    Male  174.666667  79.666667  26.112989\n",
       "199  Female  165.000000  72.333333  26.568717\n",
       "\n",
       "[200 rows x 4 columns]"
      ]
     },
     "execution_count": 16,
     "metadata": {},
     "output_type": "execute_result"
    }
   ],
   "source": [
    "# Visualizing the Base dataframe after adjustments\n",
    "df"
   ]
  },
  {
   "cell_type": "code",
   "execution_count": 17,
   "id": "4d49d732",
   "metadata": {},
   "outputs": [
    {
     "data": {
      "text/plain": [
       "0"
      ]
     },
     "execution_count": 17,
     "metadata": {},
     "output_type": "execute_result"
    }
   ],
   "source": [
    "#Checking again if all the field are populated\n",
    "df.isnull().values.sum()"
   ]
  },
  {
   "cell_type": "code",
   "execution_count": 18,
   "id": "efbd38dc",
   "metadata": {},
   "outputs": [],
   "source": [
    "# Rouding the DF values to 2 digits\n",
    "df = df.round(2)"
   ]
  },
  {
   "cell_type": "markdown",
   "id": "9fef3927",
   "metadata": {},
   "source": [
    "- ### Relationship between the data"
   ]
  },
  {
   "cell_type": "code",
   "execution_count": 19,
   "id": "13acbb59",
   "metadata": {},
   "outputs": [
    {
     "data": {
      "text/html": [
       "<div>\n",
       "<style scoped>\n",
       "    .dataframe tbody tr th:only-of-type {\n",
       "        vertical-align: middle;\n",
       "    }\n",
       "\n",
       "    .dataframe tbody tr th {\n",
       "        vertical-align: top;\n",
       "    }\n",
       "\n",
       "    .dataframe thead th {\n",
       "        text-align: right;\n",
       "    }\n",
       "</style>\n",
       "<table border=\"1\" class=\"dataframe\">\n",
       "  <thead>\n",
       "    <tr style=\"text-align: right;\">\n",
       "      <th></th>\n",
       "      <th>Height</th>\n",
       "      <th>Weight</th>\n",
       "      <th>BMI</th>\n",
       "    </tr>\n",
       "  </thead>\n",
       "  <tbody>\n",
       "    <tr>\n",
       "      <th>Height</th>\n",
       "      <td>1.000000</td>\n",
       "      <td>0.523632</td>\n",
       "      <td>-0.033485</td>\n",
       "    </tr>\n",
       "    <tr>\n",
       "      <th>Weight</th>\n",
       "      <td>0.523632</td>\n",
       "      <td>1.000000</td>\n",
       "      <td>0.829941</td>\n",
       "    </tr>\n",
       "    <tr>\n",
       "      <th>BMI</th>\n",
       "      <td>-0.033485</td>\n",
       "      <td>0.829941</td>\n",
       "      <td>1.000000</td>\n",
       "    </tr>\n",
       "  </tbody>\n",
       "</table>\n",
       "</div>"
      ],
      "text/plain": [
       "          Height    Weight       BMI\n",
       "Height  1.000000  0.523632 -0.033485\n",
       "Weight  0.523632  1.000000  0.829941\n",
       "BMI    -0.033485  0.829941  1.000000"
      ]
     },
     "execution_count": 19,
     "metadata": {},
     "output_type": "execute_result"
    }
   ],
   "source": [
    "df.corr()"
   ]
  },
  {
   "cell_type": "markdown",
   "id": "621026fd",
   "metadata": {},
   "source": [
    "As we can see above, the height has a negative correlation with the BMI meaning that increases in the height will have a negative effect on the BMI value."
   ]
  },
  {
   "cell_type": "markdown",
   "id": "9216c1f4",
   "metadata": {},
   "source": [
    "On the other hand, the weight has a positive correlation with the BMI, increases in weight will have a positive affect on the BMI. It becomes more evident when we look at the formula to calculate the BMI"
   ]
  },
  {
   "cell_type": "markdown",
   "id": "42bbdd18",
   "metadata": {},
   "source": [
    "$$ {Weight[kg] \\over (Height[cm]/100)^2} $$"
   ]
  },
  {
   "cell_type": "markdown",
   "id": "819992c5",
   "metadata": {},
   "source": [
    "The height is the denominator of the fraction used to calculate the BMI, so increases in its the denominator while the numerator stays the same, cause the fraction t decreases"
   ]
  },
  {
   "cell_type": "markdown",
   "id": "3567cd67",
   "metadata": {},
   "source": [
    "Quick analisys on the real world data to find the information that we are going to simulated data\n",
    "the first step is to break down the dataframe between males and females as they have different heights and weight.\n",
    "\n",
    "**Average Height**\n",
    "<b>\n",
    "\n",
    "According to [World Data](https://www.worlddata.info/average-bodyheight.php) website, the average height for a man from UK is 1.78 meters and for a woman from UK is 1.64 meters\n",
    "    \n",
    "**Average Weight**\n",
    "<b>\n",
    "\n",
    "According to [World Data](https://www.worlddata.info/average-bodyheight.php) website, the average Weight for a man from UK is 86.7 kg and for a woman from UK is 72.7 kg."
   ]
  },
  {
   "cell_type": "markdown",
   "id": "9edd5691",
   "metadata": {},
   "source": [
    "- ### Finding and assigning the median and standard deviation to variables"
   ]
  },
  {
   "cell_type": "markdown",
   "id": "3acd81f1",
   "metadata": {},
   "source": [
    "Using the describe function from Pandas module, we can see important information that we are going to use to simulate our dataset. Such as the mean,  median(or 50% percentile), standard deviation and the max/minimum values of our dataset. \n",
    "We are going to assign these values for both males and females to variables that are going to be used when we simulate our data."
   ]
  },
  {
   "cell_type": "code",
   "execution_count": 20,
   "id": "63df0179",
   "metadata": {},
   "outputs": [],
   "source": [
    "# Breaking the DF into males and females\n",
    "males = df.loc[df['Gender'] == 'Male']\n",
    "females = df.loc[df['Gender'] == 'Female']"
   ]
  },
  {
   "cell_type": "code",
   "execution_count": 21,
   "id": "cba8ba6a",
   "metadata": {},
   "outputs": [
    {
     "data": {
      "text/html": [
       "<div>\n",
       "<style scoped>\n",
       "    .dataframe tbody tr th:only-of-type {\n",
       "        vertical-align: middle;\n",
       "    }\n",
       "\n",
       "    .dataframe tbody tr th {\n",
       "        vertical-align: top;\n",
       "    }\n",
       "\n",
       "    .dataframe thead th {\n",
       "        text-align: right;\n",
       "    }\n",
       "</style>\n",
       "<table border=\"1\" class=\"dataframe\">\n",
       "  <thead>\n",
       "    <tr style=\"text-align: right;\">\n",
       "      <th></th>\n",
       "      <th>Height</th>\n",
       "      <th>Weight</th>\n",
       "      <th>BMI</th>\n",
       "    </tr>\n",
       "  </thead>\n",
       "  <tbody>\n",
       "    <tr>\n",
       "      <th>count</th>\n",
       "      <td>117.000000</td>\n",
       "      <td>117.000000</td>\n",
       "      <td>117.000000</td>\n",
       "    </tr>\n",
       "    <tr>\n",
       "      <th>mean</th>\n",
       "      <td>178.379145</td>\n",
       "      <td>78.188291</td>\n",
       "      <td>24.577949</td>\n",
       "    </tr>\n",
       "    <tr>\n",
       "      <th>std</th>\n",
       "      <td>7.009024</td>\n",
       "      <td>12.051701</td>\n",
       "      <td>3.596055</td>\n",
       "    </tr>\n",
       "    <tr>\n",
       "      <th>min</th>\n",
       "      <td>164.000000</td>\n",
       "      <td>56.000000</td>\n",
       "      <td>18.210000</td>\n",
       "    </tr>\n",
       "    <tr>\n",
       "      <th>25%</th>\n",
       "      <td>173.000000</td>\n",
       "      <td>69.330000</td>\n",
       "      <td>21.790000</td>\n",
       "    </tr>\n",
       "    <tr>\n",
       "      <th>50%</th>\n",
       "      <td>177.330000</td>\n",
       "      <td>76.670000</td>\n",
       "      <td>24.320000</td>\n",
       "    </tr>\n",
       "    <tr>\n",
       "      <th>75%</th>\n",
       "      <td>183.670000</td>\n",
       "      <td>86.000000</td>\n",
       "      <td>26.530000</td>\n",
       "    </tr>\n",
       "    <tr>\n",
       "      <th>max</th>\n",
       "      <td>202.000000</td>\n",
       "      <td>112.000000</td>\n",
       "      <td>36.750000</td>\n",
       "    </tr>\n",
       "  </tbody>\n",
       "</table>\n",
       "</div>"
      ],
      "text/plain": [
       "           Height      Weight         BMI\n",
       "count  117.000000  117.000000  117.000000\n",
       "mean   178.379145   78.188291   24.577949\n",
       "std      7.009024   12.051701    3.596055\n",
       "min    164.000000   56.000000   18.210000\n",
       "25%    173.000000   69.330000   21.790000\n",
       "50%    177.330000   76.670000   24.320000\n",
       "75%    183.670000   86.000000   26.530000\n",
       "max    202.000000  112.000000   36.750000"
      ]
     },
     "execution_count": 21,
     "metadata": {},
     "output_type": "execute_result"
    }
   ],
   "source": [
    "males.describe()"
   ]
  },
  {
   "cell_type": "code",
   "execution_count": 22,
   "id": "d0d8cd32",
   "metadata": {},
   "outputs": [
    {
     "name": "stdout",
     "output_type": "stream",
     "text": [
      "BMI mean for males is: 24.577949 and standard deviation is: 3.596055\n",
      "Height mean for males is: 178.379145 and standard deviation is: 7.009024\n",
      "Weight mean for males is: 78.188291 and standard deviation is: 12.051701\n"
     ]
    }
   ],
   "source": [
    "# For use in the simulated data\n",
    "bmi_mean_males = males['BMI'].mean()\n",
    "h_mean_males = males['Height'].mean()\n",
    "w_mean_males = males['Weight'].mean()\n",
    "bmi_std_males = males['BMI'].std()\n",
    "h_std_males = males['Height'].std()\n",
    "w_std_males = males['Weight'].std()\n",
    "\n",
    "print(\"BMI mean for males is: {:.6f} and standard deviation is: {:.6f}\".format(bmi_mean_males,bmi_std_males))\n",
    "print(\"Height mean for males is: {:.6f} and standard deviation is: {:.6f}\".format(h_mean_males,h_std_males))\n",
    "print(\"Weight mean for males is: {:.6f} and standard deviation is: {:.6f}\".format(w_mean_males,w_std_males))\n"
   ]
  },
  {
   "cell_type": "code",
   "execution_count": 23,
   "id": "bfa944a8",
   "metadata": {},
   "outputs": [
    {
     "data": {
      "text/html": [
       "<div>\n",
       "<style scoped>\n",
       "    .dataframe tbody tr th:only-of-type {\n",
       "        vertical-align: middle;\n",
       "    }\n",
       "\n",
       "    .dataframe tbody tr th {\n",
       "        vertical-align: top;\n",
       "    }\n",
       "\n",
       "    .dataframe thead th {\n",
       "        text-align: right;\n",
       "    }\n",
       "</style>\n",
       "<table border=\"1\" class=\"dataframe\">\n",
       "  <thead>\n",
       "    <tr style=\"text-align: right;\">\n",
       "      <th></th>\n",
       "      <th>Height</th>\n",
       "      <th>Weight</th>\n",
       "      <th>BMI</th>\n",
       "    </tr>\n",
       "  </thead>\n",
       "  <tbody>\n",
       "    <tr>\n",
       "      <th>count</th>\n",
       "      <td>83.000000</td>\n",
       "      <td>83.000000</td>\n",
       "      <td>83.000000</td>\n",
       "    </tr>\n",
       "    <tr>\n",
       "      <th>mean</th>\n",
       "      <td>165.827229</td>\n",
       "      <td>64.806867</td>\n",
       "      <td>23.582651</td>\n",
       "    </tr>\n",
       "    <tr>\n",
       "      <th>std</th>\n",
       "      <td>7.485750</td>\n",
       "      <td>13.455118</td>\n",
       "      <td>4.749132</td>\n",
       "    </tr>\n",
       "    <tr>\n",
       "      <th>min</th>\n",
       "      <td>148.000000</td>\n",
       "      <td>44.000000</td>\n",
       "      <td>17.030000</td>\n",
       "    </tr>\n",
       "    <tr>\n",
       "      <th>25%</th>\n",
       "      <td>161.165000</td>\n",
       "      <td>56.000000</td>\n",
       "      <td>21.010000</td>\n",
       "    </tr>\n",
       "    <tr>\n",
       "      <th>50%</th>\n",
       "      <td>166.000000</td>\n",
       "      <td>61.000000</td>\n",
       "      <td>22.590000</td>\n",
       "    </tr>\n",
       "    <tr>\n",
       "      <th>75%</th>\n",
       "      <td>170.000000</td>\n",
       "      <td>71.165000</td>\n",
       "      <td>24.825000</td>\n",
       "    </tr>\n",
       "    <tr>\n",
       "      <th>max</th>\n",
       "      <td>185.670000</td>\n",
       "      <td>122.670000</td>\n",
       "      <td>44.750000</td>\n",
       "    </tr>\n",
       "  </tbody>\n",
       "</table>\n",
       "</div>"
      ],
      "text/plain": [
       "           Height      Weight        BMI\n",
       "count   83.000000   83.000000  83.000000\n",
       "mean   165.827229   64.806867  23.582651\n",
       "std      7.485750   13.455118   4.749132\n",
       "min    148.000000   44.000000  17.030000\n",
       "25%    161.165000   56.000000  21.010000\n",
       "50%    166.000000   61.000000  22.590000\n",
       "75%    170.000000   71.165000  24.825000\n",
       "max    185.670000  122.670000  44.750000"
      ]
     },
     "execution_count": 23,
     "metadata": {},
     "output_type": "execute_result"
    }
   ],
   "source": [
    "females.describe()"
   ]
  },
  {
   "cell_type": "code",
   "execution_count": 24,
   "id": "9866cf65",
   "metadata": {},
   "outputs": [
    {
     "name": "stdout",
     "output_type": "stream",
     "text": [
      "BMI mean for females is: 23.582651 and standard deviation is: 4.749132\n",
      "Height mean for males is: 165.827229 and standard deviation is: 7.485750\n",
      "Weight mean for males is: 64.806867 and standard deviation is: 13.455118\n"
     ]
    }
   ],
   "source": [
    "# For use in the simulated data\n",
    "bmi_mean_females = females['BMI'].mean()\n",
    "h_mean_females = females['Height'].mean()\n",
    "w_mean_females = females['Weight'].mean()\n",
    "bmi_std_females = females['BMI'].std()\n",
    "h_std_females = females['Height'].std()\n",
    "w_std_females = females['Weight'].std()\n",
    "\n",
    "print(\"BMI mean for females is: {:.6f} and standard deviation is: {:.6f}\".format(bmi_mean_females,bmi_std_females))\n",
    "print(\"Height mean for males is: {:.6f} and standard deviation is: {:.6f}\".format(h_mean_females,h_std_females))\n",
    "print(\"Weight mean for males is: {:.6f} and standard deviation is: {:.6f}\".format(w_mean_females,w_std_females))"
   ]
  },
  {
   "cell_type": "markdown",
   "id": "f073c981",
   "metadata": {},
   "source": [
    "\n"
   ]
  },
  {
   "cell_type": "markdown",
   "id": "aa0d85d2",
   "metadata": {},
   "source": [
    "- ### Plotting the original data\n",
    "Plotting the original data from male and female individuals."
   ]
  },
  {
   "cell_type": "code",
   "execution_count": 25,
   "id": "e03abfbd",
   "metadata": {},
   "outputs": [
    {
     "data": {
      "text/plain": [
       "<AxesSubplot:title={'center':'Males BMI'}, xlabel='BMI', ylabel='Count'>"
      ]
     },
     "execution_count": 25,
     "metadata": {},
     "output_type": "execute_result"
    },
    {
     "data": {
      "image/png": "[encoded data removed]",
      "text/plain": [
       "<Figure size 1500x1000 with 3 Axes>"
      ]
     },
     "metadata": {},
     "output_type": "display_data"
    }
   ],
   "source": [
    "# Creating a dstribuition plot for height, weight and BMI for males\n",
    "\n",
    "fig, axs = plt.subplots(figsize=(15, 10), ncols=3)\n",
    "\n",
    "axs[0].axvline(h_mean_males, color='r', linestyle='dashed', linewidth=1)\n",
    "axs[0].set_title('Males Height', size=15)\n",
    "sns.histplot(kde=True, data=males['Height'], bins = 15, ax=axs[0])\n",
    "\n",
    "\n",
    "\n",
    "axs[1].axvline(w_mean_males, color='r', linestyle='dashed', linewidth=1)\n",
    "axs[1].set_title('Males Weight', size=15)\n",
    "sns.histplot(kde=True, data=males['Weight'], bins = 15, ax=axs[1])\n",
    "\n",
    "            \n",
    "axs[2].axvline(bmi_mean_males, color='r', linestyle='dashed', linewidth=1)\n",
    "axs[2].set_title('Males BMI', size=15)\n",
    "sns.histplot(kde=True, data=males['BMI'], bins = 15, ax=axs[2])\n",
    "\n"
   ]
  },
  {
   "cell_type": "code",
   "execution_count": 26,
   "id": "3ea53230",
   "metadata": {},
   "outputs": [
    {
     "data": {
      "text/plain": [
       "<matplotlib.lines.Line2D at 0x1a48bbad1c0>"
      ]
     },
     "execution_count": 26,
     "metadata": {},
     "output_type": "execute_result"
    },
    {
     "data": {
      "image/png": "[encoded data removed]",
      "text/plain": [
       "<Figure size 1500x1000 with 3 Axes>"
      ]
     },
     "metadata": {},
     "output_type": "display_data"
    }
   ],
   "source": [
    "# Creating a dstribuition plot for height and weight for females\n",
    "\n",
    "fig, axs = plt.subplots(figsize=(15, 10), ncols=3)\n",
    "\n",
    "sns.histplot(kde=True, data=females['Height'], bins = 15, ax=axs[0])\n",
    "axs[0].set_title('Females Height', size=15)\n",
    "axs[0].axvline(h_mean_females, color='r', linestyle='dashed', linewidth=1)\n",
    "\n",
    "sns.histplot(kde=True, data=females['Weight'], bins = 15, ax=axs[1])\n",
    "axs[1].set_title('Females Weight', size=15)\n",
    "axs[1].axvline(w_mean_females, color='r', linestyle='dashed', linewidth=1)\n",
    "\n",
    "sns.histplot(kde=True, data=females['BMI'], bins = 15, ax=axs[2])\n",
    "axs[2].set_title('Females BMI', size=15)\n",
    "axs[2].axvline(bmi_mean_females, color='r', linestyle='dashed', linewidth=1)\n"
   ]
  },
  {
   "cell_type": "markdown",
   "id": "1b939a62",
   "metadata": {},
   "source": [
    "Human heights are assumed to be [normaly distribuited](http://www.math.iup.edu/~clamb/class/math217/3_1-normal-distribution/), however in our case, our database have some skewness on it, and it become more evident since we only have 100 datapoints for each male and females."
   ]
  },
  {
   "cell_type": "markdown",
   "id": "a8dc95d7",
   "metadata": {},
   "source": [
    "Observing the plots above we can see that most of the data has a certain level of left [skewness](https://www.scribbr.com/statistics/skewness/#:~:text=Right%20skew%20),  with exception of females height that is skewed to the right.\n",
    "#### Skewness\n",
    "Skewness is the measurement of how much a distribution is asymmetric and it can be positive, negative or have zero skewness.\n",
    "-\tPositive skewness also known as right skew is when the median value is smaller than the mean value. This is what is happening in most of our plots.\n",
    "-\tNegative Positive skewness also known as left skew is when opposite to the right skew, the median value is higher than the mean value, this can been seen on the Females height plot.\n",
    "-\tZero skew is when both median and mean are the same and happens when values are normally distributed \n",
    "\n",
    "We can calculate the skewness of a distribuition by using the [skew()](https://docs.scipy.org/doc/scipy/reference/generated/scipy.stats.skew.html) function from the scipy.stats module.\n",
    "\n",
    "\n",
    "Even with our data showing some skewness after some research [here](https://plus.maths.org/content/normal-distribution) and [here](https://en.wikipedia.org/wiki/Normal_distribution#cite_note-49). We decided to use the normal distribuition as the type of distribuition to simulate the data."
   ]
  },
  {
   "cell_type": "markdown",
   "id": "e9375e88",
   "metadata": {},
   "source": [
    "### Normal Distribuition"
   ]
  },
  {
   "cell_type": "markdown",
   "id": "5e5b91f4",
   "metadata": {},
   "source": [
    "Normal Distribution, also known as Gaussian or Gauss distribution is a type of probability distribution where the data near to the mean occur more frequently than the data far from the mean. When plotted, normal distribution will display a curve called “bell curve” due to its shape. The normal distribution is a type of symmetrical distribution. Symmetrical distribution are distribution where the mean, median, and mode have the same value and occur at the same spot and represent the highest point of the distribution."
   ]
  },
  {
   "cell_type": "markdown",
   "id": "6e1ef2fd",
   "metadata": {},
   "source": [
    "**Mean, Median and Mode:**,\n",
    "    \n",
    " - **Mean:** The mean represents the highest point in the normal distribution graph, its peak and most of the values or data points are clustered around it. Changing the value of the mean will cause the graph representation of the normal distribution to move its curve either to the right or to the left.<br>  \n",
    "\n",
    " - **Mode:** is the most common score, in the distribution, and since the most common score is the one that occurs at the peak of the distribution and the mean also represents the highest point in the distribution, therefore the mean and the mode are the same value in the normal distribution.\n",
    " \n",
    " - **Median:** is the score positioned in the middle of the dataset when it is ordered in an ascending way and since the normal distribution is symmetrical, meaning that the middle point is the highest value of the normal distribution curve and also the same value as the mean and the mode.\""
   ]
  },
  {
   "cell_type": "markdown",
   "id": "543e50ad",
   "metadata": {},
   "source": [
    "# Simulating the Data"
   ]
  },
  {
   "cell_type": "markdown",
   "id": "faa3aeb3",
   "metadata": {},
   "source": [
    "To simulate our data we are going to use the Python's [Numpy](https://numpy.org/doc/stable/reference/random/generator.html). package. More specifically the <i>[numpy.random.Generator.normal](https://numpy.org/doc/stable/reference/random/generated/numpy.random.Generator.normal.html#numpy.random.Generator.normal)</i> function. For the generator part, we are going to assign it to a variable (rng). The normal function can take up three parameters. The mean, the standard deviation, and the output shape/size. And will return a array of normally distributed values following the parameters entered. "
   ]
  },
  {
   "cell_type": "code",
   "execution_count": 27,
   "id": "b68d6117",
   "metadata": {},
   "outputs": [],
   "source": [
    "# https://numpy.org/doc/stable/reference/generated/numpy.sort.html\n",
    "# Initializing the Random Generator\n",
    "# Seed add for Z score calculation, remove to make it random again.\n",
    "rng = np.random.default_rng(0)\n",
    "\n",
    "\n",
    "#Simulating values for males height, weight and BMI \n",
    "size = 500\n",
    "male= ['Male']\n",
    "\n",
    "m_normal_height = rng.normal(loc=h_mean_males, scale=h_std_males, size=size)\n",
    "\n",
    "m_normal_weight = rng.normal(loc=w_mean_males, scale=w_std_males, size=size)\n",
    "\n",
    "m_normal_bmi = rng.normal(loc=bmi_mean_males, scale=bmi_std_males, size=size)\n",
    "\n",
    "male=np.random.choice(male, size)"
   ]
  },
  {
   "cell_type": "code",
   "execution_count": 28,
   "id": "aaf033db",
   "metadata": {},
   "outputs": [
    {
     "data": {
      "text/html": [
       "<div>\n",
       "<style scoped>\n",
       "    .dataframe tbody tr th:only-of-type {\n",
       "        vertical-align: middle;\n",
       "    }\n",
       "\n",
       "    .dataframe tbody tr th {\n",
       "        vertical-align: top;\n",
       "    }\n",
       "\n",
       "    .dataframe thead th {\n",
       "        text-align: right;\n",
       "    }\n",
       "</style>\n",
       "<table border=\"1\" class=\"dataframe\">\n",
       "  <thead>\n",
       "    <tr style=\"text-align: right;\">\n",
       "      <th></th>\n",
       "      <th>Gender</th>\n",
       "      <th>Height</th>\n",
       "      <th>Weight</th>\n",
       "      <th>BMI</th>\n",
       "    </tr>\n",
       "  </thead>\n",
       "  <tbody>\n",
       "    <tr>\n",
       "      <th>0</th>\n",
       "      <td>Male</td>\n",
       "      <td>179.0</td>\n",
       "      <td>94.0</td>\n",
       "      <td>29.0</td>\n",
       "    </tr>\n",
       "    <tr>\n",
       "      <th>1</th>\n",
       "      <td>Male</td>\n",
       "      <td>177.0</td>\n",
       "      <td>84.0</td>\n",
       "      <td>26.0</td>\n",
       "    </tr>\n",
       "    <tr>\n",
       "      <th>2</th>\n",
       "      <td>Male</td>\n",
       "      <td>183.0</td>\n",
       "      <td>58.0</td>\n",
       "      <td>25.0</td>\n",
       "    </tr>\n",
       "    <tr>\n",
       "      <th>3</th>\n",
       "      <td>Male</td>\n",
       "      <td>179.0</td>\n",
       "      <td>69.0</td>\n",
       "      <td>26.0</td>\n",
       "    </tr>\n",
       "    <tr>\n",
       "      <th>4</th>\n",
       "      <td>Male</td>\n",
       "      <td>175.0</td>\n",
       "      <td>93.0</td>\n",
       "      <td>20.0</td>\n",
       "    </tr>\n",
       "    <tr>\n",
       "      <th>...</th>\n",
       "      <td>...</td>\n",
       "      <td>...</td>\n",
       "      <td>...</td>\n",
       "      <td>...</td>\n",
       "    </tr>\n",
       "    <tr>\n",
       "      <th>495</th>\n",
       "      <td>Male</td>\n",
       "      <td>165.0</td>\n",
       "      <td>101.0</td>\n",
       "      <td>20.0</td>\n",
       "    </tr>\n",
       "    <tr>\n",
       "      <th>496</th>\n",
       "      <td>Male</td>\n",
       "      <td>177.0</td>\n",
       "      <td>72.0</td>\n",
       "      <td>28.0</td>\n",
       "    </tr>\n",
       "    <tr>\n",
       "      <th>497</th>\n",
       "      <td>Male</td>\n",
       "      <td>183.0</td>\n",
       "      <td>95.0</td>\n",
       "      <td>25.0</td>\n",
       "    </tr>\n",
       "    <tr>\n",
       "      <th>498</th>\n",
       "      <td>Male</td>\n",
       "      <td>169.0</td>\n",
       "      <td>70.0</td>\n",
       "      <td>19.0</td>\n",
       "    </tr>\n",
       "    <tr>\n",
       "      <th>499</th>\n",
       "      <td>Male</td>\n",
       "      <td>181.0</td>\n",
       "      <td>75.0</td>\n",
       "      <td>23.0</td>\n",
       "    </tr>\n",
       "  </tbody>\n",
       "</table>\n",
       "<p>500 rows × 4 columns</p>\n",
       "</div>"
      ],
      "text/plain": [
       "    Gender  Height  Weight   BMI\n",
       "0     Male   179.0    94.0  29.0\n",
       "1     Male   177.0    84.0  26.0\n",
       "2     Male   183.0    58.0  25.0\n",
       "3     Male   179.0    69.0  26.0\n",
       "4     Male   175.0    93.0  20.0\n",
       "..     ...     ...     ...   ...\n",
       "495   Male   165.0   101.0  20.0\n",
       "496   Male   177.0    72.0  28.0\n",
       "497   Male   183.0    95.0  25.0\n",
       "498   Male   169.0    70.0  19.0\n",
       "499   Male   181.0    75.0  23.0\n",
       "\n",
       "[500 rows x 4 columns]"
      ]
     },
     "execution_count": 28,
     "metadata": {},
     "output_type": "execute_result"
    }
   ],
   "source": [
    "#Populating the male dfwith the simulated Data\n",
    "df_male = pd.DataFrame(columns=['Gender', 'Height','Weight', 'BMI'])\n",
    "df_male['Gender'] = male\n",
    "df_male['Height'] = m_normal_height\n",
    "df_male['Weight'] = m_normal_weight \n",
    "df_male['BMI'] = m_normal_bmi\n",
    "df_male = df_male.round(0)\n",
    "df_male"
   ]
  },
  {
   "cell_type": "code",
   "execution_count": null,
   "id": "cc838070",
   "metadata": {},
   "outputs": [],
   "source": []
  },
  {
   "cell_type": "code",
   "execution_count": 29,
   "id": "587528cb",
   "metadata": {},
   "outputs": [],
   "source": [
    "#Simulating values for males height, weight and BMI \n",
    "female = ['Female']\n",
    "female=np.random.choice(female, size)\n",
    "\n",
    "f_normal_height = rng.normal(loc=h_mean_females, scale=h_std_females, size=size)\n",
    "\n",
    "f_normal_weight = rng.normal(loc=w_mean_females, scale=w_std_females, size=size)\n",
    "\n",
    "f_normal_bmi = rng.normal(loc=bmi_mean_females, scale=bmi_std_females, size=size)"
   ]
  },
  {
   "cell_type": "code",
   "execution_count": 30,
   "id": "56f5d99e",
   "metadata": {},
   "outputs": [
    {
     "data": {
      "text/html": [
       "<div>\n",
       "<style scoped>\n",
       "    .dataframe tbody tr th:only-of-type {\n",
       "        vertical-align: middle;\n",
       "    }\n",
       "\n",
       "    .dataframe tbody tr th {\n",
       "        vertical-align: top;\n",
       "    }\n",
       "\n",
       "    .dataframe thead th {\n",
       "        text-align: right;\n",
       "    }\n",
       "</style>\n",
       "<table border=\"1\" class=\"dataframe\">\n",
       "  <thead>\n",
       "    <tr style=\"text-align: right;\">\n",
       "      <th></th>\n",
       "      <th>Gender</th>\n",
       "      <th>Height</th>\n",
       "      <th>Weight</th>\n",
       "      <th>BMI</th>\n",
       "    </tr>\n",
       "  </thead>\n",
       "  <tbody>\n",
       "    <tr>\n",
       "      <th>0</th>\n",
       "      <td>Female</td>\n",
       "      <td>175.0</td>\n",
       "      <td>70.0</td>\n",
       "      <td>20.0</td>\n",
       "    </tr>\n",
       "    <tr>\n",
       "      <th>1</th>\n",
       "      <td>Female</td>\n",
       "      <td>161.0</td>\n",
       "      <td>58.0</td>\n",
       "      <td>13.0</td>\n",
       "    </tr>\n",
       "    <tr>\n",
       "      <th>2</th>\n",
       "      <td>Female</td>\n",
       "      <td>157.0</td>\n",
       "      <td>53.0</td>\n",
       "      <td>19.0</td>\n",
       "    </tr>\n",
       "    <tr>\n",
       "      <th>3</th>\n",
       "      <td>Female</td>\n",
       "      <td>164.0</td>\n",
       "      <td>43.0</td>\n",
       "      <td>21.0</td>\n",
       "    </tr>\n",
       "    <tr>\n",
       "      <th>4</th>\n",
       "      <td>Female</td>\n",
       "      <td>160.0</td>\n",
       "      <td>42.0</td>\n",
       "      <td>31.0</td>\n",
       "    </tr>\n",
       "    <tr>\n",
       "      <th>...</th>\n",
       "      <td>...</td>\n",
       "      <td>...</td>\n",
       "      <td>...</td>\n",
       "      <td>...</td>\n",
       "    </tr>\n",
       "    <tr>\n",
       "      <th>495</th>\n",
       "      <td>Female</td>\n",
       "      <td>171.0</td>\n",
       "      <td>43.0</td>\n",
       "      <td>16.0</td>\n",
       "    </tr>\n",
       "    <tr>\n",
       "      <th>496</th>\n",
       "      <td>Female</td>\n",
       "      <td>162.0</td>\n",
       "      <td>57.0</td>\n",
       "      <td>28.0</td>\n",
       "    </tr>\n",
       "    <tr>\n",
       "      <th>497</th>\n",
       "      <td>Female</td>\n",
       "      <td>151.0</td>\n",
       "      <td>74.0</td>\n",
       "      <td>16.0</td>\n",
       "    </tr>\n",
       "    <tr>\n",
       "      <th>498</th>\n",
       "      <td>Female</td>\n",
       "      <td>159.0</td>\n",
       "      <td>68.0</td>\n",
       "      <td>14.0</td>\n",
       "    </tr>\n",
       "    <tr>\n",
       "      <th>499</th>\n",
       "      <td>Female</td>\n",
       "      <td>169.0</td>\n",
       "      <td>67.0</td>\n",
       "      <td>21.0</td>\n",
       "    </tr>\n",
       "  </tbody>\n",
       "</table>\n",
       "<p>500 rows × 4 columns</p>\n",
       "</div>"
      ],
      "text/plain": [
       "     Gender  Height  Weight   BMI\n",
       "0    Female   175.0    70.0  20.0\n",
       "1    Female   161.0    58.0  13.0\n",
       "2    Female   157.0    53.0  19.0\n",
       "3    Female   164.0    43.0  21.0\n",
       "4    Female   160.0    42.0  31.0\n",
       "..      ...     ...     ...   ...\n",
       "495  Female   171.0    43.0  16.0\n",
       "496  Female   162.0    57.0  28.0\n",
       "497  Female   151.0    74.0  16.0\n",
       "498  Female   159.0    68.0  14.0\n",
       "499  Female   169.0    67.0  21.0\n",
       "\n",
       "[500 rows x 4 columns]"
      ]
     },
     "execution_count": 30,
     "metadata": {},
     "output_type": "execute_result"
    }
   ],
   "source": [
    "#Populating the female df with the simulated Data\n",
    "df_female = pd.DataFrame(columns=['Gender', 'Height','Weight', 'BMI'])\n",
    "df_female['Gender'] = female\n",
    "df_female['Height'] = f_normal_height\n",
    "df_female['Weight'] = f_normal_weight \n",
    "df_female['BMI'] = f_normal_bmi\n",
    "df_female = df_female.round(0)\n",
    "df_female"
   ]
  },
  {
   "cell_type": "code",
   "execution_count": 31,
   "id": "e8d82ace",
   "metadata": {},
   "outputs": [],
   "source": [
    "# Concatenating both DF\n",
    "simulated_df = pd.concat([df_male, df_female], ignore_index=True)"
   ]
  },
  {
   "cell_type": "code",
   "execution_count": 32,
   "id": "1042ad83",
   "metadata": {},
   "outputs": [
    {
     "data": {
      "text/html": [
       "<div>\n",
       "<style scoped>\n",
       "    .dataframe tbody tr th:only-of-type {\n",
       "        vertical-align: middle;\n",
       "    }\n",
       "\n",
       "    .dataframe tbody tr th {\n",
       "        vertical-align: top;\n",
       "    }\n",
       "\n",
       "    .dataframe thead th {\n",
       "        text-align: right;\n",
       "    }\n",
       "</style>\n",
       "<table border=\"1\" class=\"dataframe\">\n",
       "  <thead>\n",
       "    <tr style=\"text-align: right;\">\n",
       "      <th></th>\n",
       "      <th>Gender</th>\n",
       "      <th>Height</th>\n",
       "      <th>Weight</th>\n",
       "      <th>BMI</th>\n",
       "    </tr>\n",
       "  </thead>\n",
       "  <tbody>\n",
       "    <tr>\n",
       "      <th>0</th>\n",
       "      <td>Male</td>\n",
       "      <td>179.0</td>\n",
       "      <td>94.0</td>\n",
       "      <td>29.0</td>\n",
       "    </tr>\n",
       "    <tr>\n",
       "      <th>1</th>\n",
       "      <td>Male</td>\n",
       "      <td>177.0</td>\n",
       "      <td>84.0</td>\n",
       "      <td>26.0</td>\n",
       "    </tr>\n",
       "    <tr>\n",
       "      <th>2</th>\n",
       "      <td>Male</td>\n",
       "      <td>183.0</td>\n",
       "      <td>58.0</td>\n",
       "      <td>25.0</td>\n",
       "    </tr>\n",
       "    <tr>\n",
       "      <th>3</th>\n",
       "      <td>Male</td>\n",
       "      <td>179.0</td>\n",
       "      <td>69.0</td>\n",
       "      <td>26.0</td>\n",
       "    </tr>\n",
       "    <tr>\n",
       "      <th>4</th>\n",
       "      <td>Male</td>\n",
       "      <td>175.0</td>\n",
       "      <td>93.0</td>\n",
       "      <td>20.0</td>\n",
       "    </tr>\n",
       "    <tr>\n",
       "      <th>...</th>\n",
       "      <td>...</td>\n",
       "      <td>...</td>\n",
       "      <td>...</td>\n",
       "      <td>...</td>\n",
       "    </tr>\n",
       "    <tr>\n",
       "      <th>995</th>\n",
       "      <td>Female</td>\n",
       "      <td>171.0</td>\n",
       "      <td>43.0</td>\n",
       "      <td>16.0</td>\n",
       "    </tr>\n",
       "    <tr>\n",
       "      <th>996</th>\n",
       "      <td>Female</td>\n",
       "      <td>162.0</td>\n",
       "      <td>57.0</td>\n",
       "      <td>28.0</td>\n",
       "    </tr>\n",
       "    <tr>\n",
       "      <th>997</th>\n",
       "      <td>Female</td>\n",
       "      <td>151.0</td>\n",
       "      <td>74.0</td>\n",
       "      <td>16.0</td>\n",
       "    </tr>\n",
       "    <tr>\n",
       "      <th>998</th>\n",
       "      <td>Female</td>\n",
       "      <td>159.0</td>\n",
       "      <td>68.0</td>\n",
       "      <td>14.0</td>\n",
       "    </tr>\n",
       "    <tr>\n",
       "      <th>999</th>\n",
       "      <td>Female</td>\n",
       "      <td>169.0</td>\n",
       "      <td>67.0</td>\n",
       "      <td>21.0</td>\n",
       "    </tr>\n",
       "  </tbody>\n",
       "</table>\n",
       "<p>1000 rows × 4 columns</p>\n",
       "</div>"
      ],
      "text/plain": [
       "     Gender  Height  Weight   BMI\n",
       "0      Male   179.0    94.0  29.0\n",
       "1      Male   177.0    84.0  26.0\n",
       "2      Male   183.0    58.0  25.0\n",
       "3      Male   179.0    69.0  26.0\n",
       "4      Male   175.0    93.0  20.0\n",
       "..      ...     ...     ...   ...\n",
       "995  Female   171.0    43.0  16.0\n",
       "996  Female   162.0    57.0  28.0\n",
       "997  Female   151.0    74.0  16.0\n",
       "998  Female   159.0    68.0  14.0\n",
       "999  Female   169.0    67.0  21.0\n",
       "\n",
       "[1000 rows x 4 columns]"
      ]
     },
     "execution_count": 32,
     "metadata": {},
     "output_type": "execute_result"
    }
   ],
   "source": [
    "simulated_df"
   ]
  },
  {
   "cell_type": "markdown",
   "id": "d774c5d7",
   "metadata": {},
   "source": [
    "- ### **Simulated Dataset**"
   ]
  },
  {
   "cell_type": "code",
   "execution_count": 33,
   "id": "d283c747",
   "metadata": {},
   "outputs": [],
   "source": [
    "\n",
    "s_df = simulated_df"
   ]
  },
  {
   "cell_type": "code",
   "execution_count": 34,
   "id": "cc558250",
   "metadata": {},
   "outputs": [
    {
     "data": {
      "text/html": [
       "<div>\n",
       "<style scoped>\n",
       "    .dataframe tbody tr th:only-of-type {\n",
       "        vertical-align: middle;\n",
       "    }\n",
       "\n",
       "    .dataframe tbody tr th {\n",
       "        vertical-align: top;\n",
       "    }\n",
       "\n",
       "    .dataframe thead th {\n",
       "        text-align: right;\n",
       "    }\n",
       "</style>\n",
       "<table border=\"1\" class=\"dataframe\">\n",
       "  <thead>\n",
       "    <tr style=\"text-align: right;\">\n",
       "      <th></th>\n",
       "      <th>Gender</th>\n",
       "      <th>Height</th>\n",
       "      <th>Weight</th>\n",
       "      <th>BMI</th>\n",
       "    </tr>\n",
       "  </thead>\n",
       "  <tbody>\n",
       "    <tr>\n",
       "      <th>0</th>\n",
       "      <td>Male</td>\n",
       "      <td>179.0</td>\n",
       "      <td>94.0</td>\n",
       "      <td>29.0</td>\n",
       "    </tr>\n",
       "    <tr>\n",
       "      <th>1</th>\n",
       "      <td>Male</td>\n",
       "      <td>177.0</td>\n",
       "      <td>84.0</td>\n",
       "      <td>26.0</td>\n",
       "    </tr>\n",
       "    <tr>\n",
       "      <th>2</th>\n",
       "      <td>Male</td>\n",
       "      <td>183.0</td>\n",
       "      <td>58.0</td>\n",
       "      <td>25.0</td>\n",
       "    </tr>\n",
       "    <tr>\n",
       "      <th>3</th>\n",
       "      <td>Male</td>\n",
       "      <td>179.0</td>\n",
       "      <td>69.0</td>\n",
       "      <td>26.0</td>\n",
       "    </tr>\n",
       "    <tr>\n",
       "      <th>4</th>\n",
       "      <td>Male</td>\n",
       "      <td>175.0</td>\n",
       "      <td>93.0</td>\n",
       "      <td>20.0</td>\n",
       "    </tr>\n",
       "    <tr>\n",
       "      <th>...</th>\n",
       "      <td>...</td>\n",
       "      <td>...</td>\n",
       "      <td>...</td>\n",
       "      <td>...</td>\n",
       "    </tr>\n",
       "    <tr>\n",
       "      <th>995</th>\n",
       "      <td>Female</td>\n",
       "      <td>171.0</td>\n",
       "      <td>43.0</td>\n",
       "      <td>16.0</td>\n",
       "    </tr>\n",
       "    <tr>\n",
       "      <th>996</th>\n",
       "      <td>Female</td>\n",
       "      <td>162.0</td>\n",
       "      <td>57.0</td>\n",
       "      <td>28.0</td>\n",
       "    </tr>\n",
       "    <tr>\n",
       "      <th>997</th>\n",
       "      <td>Female</td>\n",
       "      <td>151.0</td>\n",
       "      <td>74.0</td>\n",
       "      <td>16.0</td>\n",
       "    </tr>\n",
       "    <tr>\n",
       "      <th>998</th>\n",
       "      <td>Female</td>\n",
       "      <td>159.0</td>\n",
       "      <td>68.0</td>\n",
       "      <td>14.0</td>\n",
       "    </tr>\n",
       "    <tr>\n",
       "      <th>999</th>\n",
       "      <td>Female</td>\n",
       "      <td>169.0</td>\n",
       "      <td>67.0</td>\n",
       "      <td>21.0</td>\n",
       "    </tr>\n",
       "  </tbody>\n",
       "</table>\n",
       "<p>1000 rows × 4 columns</p>\n",
       "</div>"
      ],
      "text/plain": [
       "     Gender  Height  Weight   BMI\n",
       "0      Male   179.0    94.0  29.0\n",
       "1      Male   177.0    84.0  26.0\n",
       "2      Male   183.0    58.0  25.0\n",
       "3      Male   179.0    69.0  26.0\n",
       "4      Male   175.0    93.0  20.0\n",
       "..      ...     ...     ...   ...\n",
       "995  Female   171.0    43.0  16.0\n",
       "996  Female   162.0    57.0  28.0\n",
       "997  Female   151.0    74.0  16.0\n",
       "998  Female   159.0    68.0  14.0\n",
       "999  Female   169.0    67.0  21.0\n",
       "\n",
       "[1000 rows x 4 columns]"
      ]
     },
     "execution_count": 34,
     "metadata": {},
     "output_type": "execute_result"
    }
   ],
   "source": [
    "s_df"
   ]
  },
  {
   "cell_type": "markdown",
   "id": "466b8a74",
   "metadata": {},
   "source": [
    "- ### Plotting the simulated data"
   ]
  },
  {
   "cell_type": "markdown",
   "id": "679313f9",
   "metadata": {},
   "source": [
    "Using MatPlotLib and Seaborn, we are going to plot the height, weight and BMI from our simulated dataset for males and females."
   ]
  },
  {
   "cell_type": "markdown",
   "id": "4d154832",
   "metadata": {},
   "source": [
    "\n",
    "### - Plotting males data"
   ]
  },
  {
   "cell_type": "code",
   "execution_count": 35,
   "id": "5b8adf3d",
   "metadata": {},
   "outputs": [
    {
     "data": {
      "text/plain": [
       "<AxesSubplot:title={'center':'Males BMI'}, xlabel='BMI', ylabel='Count'>"
      ]
     },
     "execution_count": 35,
     "metadata": {},
     "output_type": "execute_result"
    },
    {
     "data": {
      "image/png": "[encoded data removed]",
      "text/plain": [
       "<Figure size 1500x1000 with 3 Axes>"
      ]
     },
     "metadata": {},
     "output_type": "display_data"
    }
   ],
   "source": [
    "fig, axs = plt.subplots(figsize=(15, 10), ncols=3)\n",
    "\n",
    "# Males Height Plot\n",
    "axs[0].axvline(df_male['Height'].mean(), color='r', linestyle='dashed', linewidth=1)\n",
    "axs[0].set_title('Males Height', size=15)\n",
    "sns.histplot(kde=True, data=df_male['Height'], ax=axs[0], bins = 15)\n",
    "\n",
    "# Males Weight Plot\n",
    "axs[1].axvline(df_male['Weight'].mean(), color='r', linestyle='dashed', linewidth=1)\n",
    "axs[1].set_title('Males Weight', size=15)\n",
    "sns.histplot(kde=True, data=df_male['Weight'], ax=axs[1], bins = 15)\n",
    "\n",
    "# Males BMI Plot\n",
    "axs[2].axvline(df_male['BMI'].mean(), color='r', linestyle='dashed', linewidth=1)\n",
    "axs[2].set_title('Males BMI', size=15)\n",
    "sns.histplot(kde=True, data=df_male['BMI'], ax=axs[2], bins = 15)"
   ]
  },
  {
   "cell_type": "markdown",
   "id": "153a0c11",
   "metadata": {},
   "source": [
    "### - Plotting  females data"
   ]
  },
  {
   "cell_type": "code",
   "execution_count": 36,
   "id": "31f5d1ac",
   "metadata": {},
   "outputs": [
    {
     "data": {
      "text/plain": [
       "<AxesSubplot:title={'center':'Females BMI'}, xlabel='BMI', ylabel='Count'>"
      ]
     },
     "execution_count": 36,
     "metadata": {},
     "output_type": "execute_result"
    },
    {
     "data": {
      "image/png": "[encoded data removed]",
      "text/plain": [
       "<Figure size 1500x1000 with 3 Axes>"
      ]
     },
     "metadata": {},
     "output_type": "display_data"
    }
   ],
   "source": [
    "fig, axs = plt.subplots(figsize=(15, 10), ncols=3)\n",
    "\n",
    "# Females Height Plot\n",
    "axs[0].axvline(df_female['Height'].mean(), color='r', linestyle='dashed', linewidth=1)\n",
    "axs[0].set_title('Females Height', size=15)\n",
    "sns.histplot(kde=True, data=df_female['Height'], ax=axs[0], bins = 15)\n",
    "\n",
    "# Females Weight Plot\n",
    "axs[1].axvline(df_female['Weight'].mean(), color='r', linestyle='dashed', linewidth=1)\n",
    "axs[1].set_title('Females Weight', size=15)\n",
    "sns.histplot(kde=True, data=df_female['Weight'], ax=axs[1], bins = 15)\n",
    "\n",
    "# Females BMI Plot\n",
    "axs[2].axvline(df_female['BMI'].mean(), color='r', linestyle='dashed', linewidth=1)\n",
    "axs[2].set_title('Females BMI', size=15)\n",
    "sns.histplot(kde=True, data=df_female['BMI'], ax=axs[2], bins = 15)"
   ]
  },
  {
   "cell_type": "markdown",
   "id": "a0a74721",
   "metadata": {},
   "source": [
    "### Plotting BMI for males and females"
   ]
  },
  {
   "cell_type": "code",
   "execution_count": 37,
   "id": "538a7088",
   "metadata": {},
   "outputs": [
    {
     "data": {
      "text/plain": [
       "<AxesSubplot:title={'center':'Females BMI'}, xlabel='BMI', ylabel='Count'>"
      ]
     },
     "execution_count": 37,
     "metadata": {},
     "output_type": "execute_result"
    },
    {
     "data": {
      "image/png": "[encoded data removed]",
      "text/plain": [
       "<Figure size 1500x1000 with 2 Axes>"
      ]
     },
     "metadata": {},
     "output_type": "display_data"
    }
   ],
   "source": [
    "fig, axs = plt.subplots(figsize=(15, 10), ncols=2)\n",
    "\n",
    "# Males BMI Plot\n",
    "axs[0].axvline(df_male['BMI'].mean(), color='r', linestyle='dashed', linewidth=1)\n",
    "axs[0].set_title('Males BMI', size=15)\n",
    "sns.histplot(kde=True, data=df_male['BMI'] ,ax=axs[0], bins = 15)\n",
    "\n",
    "# Females BMI Plot\n",
    "axs[1].axvline(df_female['BMI'].mean(), color='r', linestyle='dashed', linewidth=1)\n",
    "axs[1].set_title('Females BMI', size=15)\n",
    "sns.histplot(kde=True, data=df_female['BMI'], ax=axs[1], bins = 15)"
   ]
  },
  {
   "cell_type": "code",
   "execution_count": null,
   "id": "1f0bbf4d",
   "metadata": {},
   "outputs": [],
   "source": []
  },
  {
   "cell_type": "markdown",
   "id": "d9bcf92e",
   "metadata": {},
   "source": [
    "## Z Score"
   ]
  },
  {
   "cell_type": "markdown",
   "id": "e3d14df9",
   "metadata": {},
   "source": [
    "Z score s the calculation of how many standards deviations a data point is away from the mean. We are going to use it to find out where the 25 BIM index is in each one of the males and females normal distribuition. "
   ]
  },
  {
   "cell_type": "markdown",
   "id": "fb6d7eab",
   "metadata": {},
   "source": [
    "The formula to calculate the Z score is z = (x – μ) / σ. \n",
    "</br>\n",
    "Where:\n",
    "    **x** = the data point value.\n",
    "    **μ** = the mean and;\n",
    "    **σ** = the standard deviation\n",
    "    \n",
    "Our data point value is 25, which is the minimum BMI index for someone to be classified as overweight according to the [CDC BMI Table](https://www.cdc.gov/obesity/basics/adult-defining.html). The mean and standard deviation will be taken from the previously calculated BMI values from males e females."
   ]
  },
  {
   "cell_type": "markdown",
   "id": "ab949f93",
   "metadata": {},
   "source": [
    "#### Calculating the Z score for the male data.\n"
   ]
  },
  {
   "cell_type": "code",
   "execution_count": 38,
   "id": "201953db",
   "metadata": {},
   "outputs": [
    {
     "name": "stdout",
     "output_type": "stream",
     "text": [
      "The Z score for males BMI is: 0.066\n"
     ]
    }
   ],
   "source": [
    "x = 25\n",
    "m_mean = df_male['BMI'].mean()\n",
    "male_z = (x-m_mean)/bmi_std_males\n",
    "print(\"The Z score for males BMI is: {:.3f}\".format(male_z))"
   ]
  },
  {
   "cell_type": "markdown",
   "id": "2bc69459",
   "metadata": {},
   "source": [
    "#### Calculating the Z score for the female data.\n"
   ]
  },
  {
   "cell_type": "code",
   "execution_count": 39,
   "id": "cfe78f3c",
   "metadata": {},
   "outputs": [
    {
     "name": "stdout",
     "output_type": "stream",
     "text": [
      "The Z score for females BMI is: 0.355\n"
     ]
    }
   ],
   "source": [
    "x = 25\n",
    "f_mean = df_female['BMI'].mean()\n",
    "male_z = (x-f_mean)/bmi_std_females\n",
    "print(\"The Z score for females BMI is: {:.3f}\".format(male_z))"
   ]
  },
  {
   "cell_type": "markdown",
   "id": "79f75c20",
   "metadata": {},
   "source": [
    "How do we use the Z score calculated? To make sense of what Z score means, we need to use the standard deviation [Z score table]( https://www.math.arizona.edu/~rsims/ma464/standardnormaltable.pdf), it shows the percentage of datapoints located to the left of the Z values, in other words, the percentage of the population that with values smaller that the data point value located at the Z score. For us that means the percentage of datapoints that are less than 25 which is the minimum BMI to be considered overweigh.\n",
    "\n",
    "Because our simulated data is randomly generated. The Z score for males and females will vary each time. However, it will always show that in our simulated data, males are more likely to be overweight than females because their Z score are smaller than the females.\n",
    "\n"
   ]
  },
  {
   "cell_type": "markdown",
   "id": "92f3679e",
   "metadata": {},
   "source": [
    "### Comparing the Original and Simulated DF."
   ]
  },
  {
   "cell_type": "code",
   "execution_count": 40,
   "id": "7ed62ba2",
   "metadata": {},
   "outputs": [
    {
     "data": {
      "text/html": [
       "<div>\n",
       "<style scoped>\n",
       "    .dataframe tbody tr th:only-of-type {\n",
       "        vertical-align: middle;\n",
       "    }\n",
       "\n",
       "    .dataframe tbody tr th {\n",
       "        vertical-align: top;\n",
       "    }\n",
       "\n",
       "    .dataframe thead th {\n",
       "        text-align: right;\n",
       "    }\n",
       "</style>\n",
       "<table border=\"1\" class=\"dataframe\">\n",
       "  <thead>\n",
       "    <tr style=\"text-align: right;\">\n",
       "      <th></th>\n",
       "      <th>Height</th>\n",
       "      <th>Weight</th>\n",
       "      <th>BMI</th>\n",
       "    </tr>\n",
       "  </thead>\n",
       "  <tbody>\n",
       "    <tr>\n",
       "      <th>count</th>\n",
       "      <td>200.000000</td>\n",
       "      <td>200.000000</td>\n",
       "      <td>200.000000</td>\n",
       "    </tr>\n",
       "    <tr>\n",
       "      <th>mean</th>\n",
       "      <td>173.170100</td>\n",
       "      <td>72.635000</td>\n",
       "      <td>24.164900</td>\n",
       "    </tr>\n",
       "    <tr>\n",
       "      <th>std</th>\n",
       "      <td>9.495707</td>\n",
       "      <td>14.246206</td>\n",
       "      <td>4.132002</td>\n",
       "    </tr>\n",
       "    <tr>\n",
       "      <th>min</th>\n",
       "      <td>148.000000</td>\n",
       "      <td>44.000000</td>\n",
       "      <td>17.030000</td>\n",
       "    </tr>\n",
       "    <tr>\n",
       "      <th>25%</th>\n",
       "      <td>167.247500</td>\n",
       "      <td>61.000000</td>\n",
       "      <td>21.410000</td>\n",
       "    </tr>\n",
       "    <tr>\n",
       "      <th>50%</th>\n",
       "      <td>173.000000</td>\n",
       "      <td>71.330000</td>\n",
       "      <td>23.575000</td>\n",
       "    </tr>\n",
       "    <tr>\n",
       "      <th>75%</th>\n",
       "      <td>180.000000</td>\n",
       "      <td>80.082500</td>\n",
       "      <td>25.972500</td>\n",
       "    </tr>\n",
       "    <tr>\n",
       "      <th>max</th>\n",
       "      <td>202.000000</td>\n",
       "      <td>122.670000</td>\n",
       "      <td>44.750000</td>\n",
       "    </tr>\n",
       "  </tbody>\n",
       "</table>\n",
       "</div>"
      ],
      "text/plain": [
       "           Height      Weight         BMI\n",
       "count  200.000000  200.000000  200.000000\n",
       "mean   173.170100   72.635000   24.164900\n",
       "std      9.495707   14.246206    4.132002\n",
       "min    148.000000   44.000000   17.030000\n",
       "25%    167.247500   61.000000   21.410000\n",
       "50%    173.000000   71.330000   23.575000\n",
       "75%    180.000000   80.082500   25.972500\n",
       "max    202.000000  122.670000   44.750000"
      ]
     },
     "execution_count": 40,
     "metadata": {},
     "output_type": "execute_result"
    }
   ],
   "source": [
    "df.describe()"
   ]
  },
  {
   "cell_type": "code",
   "execution_count": 41,
   "id": "b4e1c9e7",
   "metadata": {},
   "outputs": [
    {
     "data": {
      "text/html": [
       "<div>\n",
       "<style scoped>\n",
       "    .dataframe tbody tr th:only-of-type {\n",
       "        vertical-align: middle;\n",
       "    }\n",
       "\n",
       "    .dataframe tbody tr th {\n",
       "        vertical-align: top;\n",
       "    }\n",
       "\n",
       "    .dataframe thead th {\n",
       "        text-align: right;\n",
       "    }\n",
       "</style>\n",
       "<table border=\"1\" class=\"dataframe\">\n",
       "  <thead>\n",
       "    <tr style=\"text-align: right;\">\n",
       "      <th></th>\n",
       "      <th>Height</th>\n",
       "      <th>Weight</th>\n",
       "      <th>BMI</th>\n",
       "    </tr>\n",
       "  </thead>\n",
       "  <tbody>\n",
       "    <tr>\n",
       "      <th>count</th>\n",
       "      <td>1000.000000</td>\n",
       "      <td>1000.000000</td>\n",
       "      <td>1000.000000</td>\n",
       "    </tr>\n",
       "    <tr>\n",
       "      <th>mean</th>\n",
       "      <td>171.760000</td>\n",
       "      <td>70.856000</td>\n",
       "      <td>24.038000</td>\n",
       "    </tr>\n",
       "    <tr>\n",
       "      <th>std</th>\n",
       "      <td>9.826544</td>\n",
       "      <td>13.930733</td>\n",
       "      <td>4.249072</td>\n",
       "    </tr>\n",
       "    <tr>\n",
       "      <th>min</th>\n",
       "      <td>143.000000</td>\n",
       "      <td>29.000000</td>\n",
       "      <td>9.000000</td>\n",
       "    </tr>\n",
       "    <tr>\n",
       "      <th>25%</th>\n",
       "      <td>165.000000</td>\n",
       "      <td>61.000000</td>\n",
       "      <td>21.000000</td>\n",
       "    </tr>\n",
       "    <tr>\n",
       "      <th>50%</th>\n",
       "      <td>172.000000</td>\n",
       "      <td>71.000000</td>\n",
       "      <td>24.000000</td>\n",
       "    </tr>\n",
       "    <tr>\n",
       "      <th>75%</th>\n",
       "      <td>179.000000</td>\n",
       "      <td>81.000000</td>\n",
       "      <td>27.000000</td>\n",
       "    </tr>\n",
       "    <tr>\n",
       "      <th>max</th>\n",
       "      <td>200.000000</td>\n",
       "      <td>108.000000</td>\n",
       "      <td>38.000000</td>\n",
       "    </tr>\n",
       "  </tbody>\n",
       "</table>\n",
       "</div>"
      ],
      "text/plain": [
       "            Height       Weight          BMI\n",
       "count  1000.000000  1000.000000  1000.000000\n",
       "mean    171.760000    70.856000    24.038000\n",
       "std       9.826544    13.930733     4.249072\n",
       "min     143.000000    29.000000     9.000000\n",
       "25%     165.000000    61.000000    21.000000\n",
       "50%     172.000000    71.000000    24.000000\n",
       "75%     179.000000    81.000000    27.000000\n",
       "max     200.000000   108.000000    38.000000"
      ]
     },
     "execution_count": 41,
     "metadata": {},
     "output_type": "execute_result"
    }
   ],
   "source": [
    "s_df.describe()"
   ]
  },
  {
   "cell_type": "markdown",
   "id": "7667c7b7",
   "metadata": {},
   "source": [
    "## Conclusion\n",
    "\n",
    "\n"
   ]
  },
  {
   "cell_type": "markdown",
   "id": "441977c4",
   "metadata": {},
   "source": [
    "There are several ways to simulated real world data, for this project we used Numpy's Random module, more specific the normal distribuition one. We could also have used Scipy(scipy.stats.skewnorm) for weights. However, Numpy's module proved to be a good choice as the simulated data looks really simmilar to the original data. "
   ]
  }
 ],
 "metadata": {
  "kernelspec": {
   "display_name": "Python 3 (ipykernel)",
   "language": "python",
   "name": "python3"
  },
  "language_info": {
   "codemirror_mode": {
    "name": "ipython",
    "version": 3
   },
   "file_extension": ".py",
   "mimetype": "text/x-python",
   "name": "python",
   "nbconvert_exporter": "python",
   "pygments_lexer": "ipython3",
   "version": "3.9.13"
  }
 },
 "nbformat": 4,
 "nbformat_minor": 5
}
