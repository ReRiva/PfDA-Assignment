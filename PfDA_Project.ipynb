{
 "cells": [
  {
   "cell_type": "code",
   "execution_count": 183,
   "id": "c3d06ff2",
   "metadata": {},
   "outputs": [],
   "source": [
    "import numpy as np\n",
    "import pandas as pd\n",
    "import seaborn as sns\n",
    "import scipy.stats as stats\n",
    "import matplotlib.pyplot as plt"
   ]
  },
  {
   "cell_type": "markdown",
   "id": "d632e7f3",
   "metadata": {},
   "source": [
    "References\n",
    "- https://numpy.org/doc/stable/reference/random/generated/numpy.random.choice.html\n",
    "- https://www.geeksforgeeks.org/different-ways-to-create-pandas-dataframe/\n",
    "- https://pandas.pydata.org/docs/reference/api/pandas.concat.html#pandas.concat"
   ]
  },
  {
   "cell_type": "code",
   "execution_count": 184,
   "id": "1d0a67f0",
   "metadata": {},
   "outputs": [
    {
     "ename": "SyntaxError",
     "evalue": "invalid syntax (1110453333.py, line 1)",
     "output_type": "error",
     "traceback": [
      "\u001b[1;36m  Input \u001b[1;32mIn [184]\u001b[1;36m\u001b[0m\n\u001b[1;33m    https://www.kaggle.com/datasets/mustafaali96/weight-height\u001b[0m\n\u001b[1;37m          ^\u001b[0m\n\u001b[1;31mSyntaxError\u001b[0m\u001b[1;31m:\u001b[0m invalid syntax\n"
     ]
    }
   ],
   "source": [
    "https://www.kaggle.com/datasets/mustafaali96/weight-height"
   ]
  },
  {
   "cell_type": "code",
   "execution_count": 246,
   "id": "93db3a37",
   "metadata": {},
   "outputs": [
    {
     "data": {
      "text/html": [
       "<div>\n",
       "<style scoped>\n",
       "    .dataframe tbody tr th:only-of-type {\n",
       "        vertical-align: middle;\n",
       "    }\n",
       "\n",
       "    .dataframe tbody tr th {\n",
       "        vertical-align: top;\n",
       "    }\n",
       "\n",
       "    .dataframe thead th {\n",
       "        text-align: right;\n",
       "    }\n",
       "</style>\n",
       "<table border=\"1\" class=\"dataframe\">\n",
       "  <thead>\n",
       "    <tr style=\"text-align: right;\">\n",
       "      <th></th>\n",
       "      <th>Gender</th>\n",
       "      <th>Height</th>\n",
       "      <th>Weight</th>\n",
       "    </tr>\n",
       "  </thead>\n",
       "  <tbody>\n",
       "    <tr>\n",
       "      <th>0</th>\n",
       "      <td>Male</td>\n",
       "      <td>187.571423</td>\n",
       "      <td>109.702296</td>\n",
       "    </tr>\n",
       "    <tr>\n",
       "      <th>1</th>\n",
       "      <td>Male</td>\n",
       "      <td>174.706036</td>\n",
       "      <td>73.610192</td>\n",
       "    </tr>\n",
       "    <tr>\n",
       "      <th>2</th>\n",
       "      <td>Male</td>\n",
       "      <td>188.239668</td>\n",
       "      <td>96.481114</td>\n",
       "    </tr>\n",
       "    <tr>\n",
       "      <th>3</th>\n",
       "      <td>Male</td>\n",
       "      <td>182.196685</td>\n",
       "      <td>99.792504</td>\n",
       "    </tr>\n",
       "    <tr>\n",
       "      <th>4</th>\n",
       "      <td>Male</td>\n",
       "      <td>177.499761</td>\n",
       "      <td>93.582676</td>\n",
       "    </tr>\n",
       "    <tr>\n",
       "      <th>5</th>\n",
       "      <td>Male</td>\n",
       "      <td>170.822660</td>\n",
       "      <td>69.030456</td>\n",
       "    </tr>\n",
       "    <tr>\n",
       "      <th>6</th>\n",
       "      <td>Male</td>\n",
       "      <td>174.714106</td>\n",
       "      <td>83.414008</td>\n",
       "    </tr>\n",
       "    <tr>\n",
       "      <th>7</th>\n",
       "      <td>Male</td>\n",
       "      <td>173.605229</td>\n",
       "      <td>76.177374</td>\n",
       "    </tr>\n",
       "    <tr>\n",
       "      <th>8</th>\n",
       "      <td>Male</td>\n",
       "      <td>170.228132</td>\n",
       "      <td>79.786594</td>\n",
       "    </tr>\n",
       "    <tr>\n",
       "      <th>9</th>\n",
       "      <td>Male</td>\n",
       "      <td>161.179495</td>\n",
       "      <td>70.929558</td>\n",
       "    </tr>\n",
       "  </tbody>\n",
       "</table>\n",
       "</div>"
      ],
      "text/plain": [
       "  Gender      Height      Weight\n",
       "0   Male  187.571423  109.702296\n",
       "1   Male  174.706036   73.610192\n",
       "2   Male  188.239668   96.481114\n",
       "3   Male  182.196685   99.792504\n",
       "4   Male  177.499761   93.582676\n",
       "5   Male  170.822660   69.030456\n",
       "6   Male  174.714106   83.414008\n",
       "7   Male  173.605229   76.177374\n",
       "8   Male  170.228132   79.786594\n",
       "9   Male  161.179495   70.929558"
      ]
     },
     "execution_count": 246,
     "metadata": {},
     "output_type": "execute_result"
    }
   ],
   "source": [
    "# Importing Database\n",
    "#df = pd.read_csv('weight-height.csv')\n",
    "df.head(10)"
   ]
  },
  {
   "cell_type": "code",
   "execution_count": 247,
   "id": "8b74432c",
   "metadata": {},
   "outputs": [
    {
     "data": {
      "text/plain": [
       "0"
      ]
     },
     "execution_count": 247,
     "metadata": {},
     "output_type": "execute_result"
    }
   ],
   "source": [
    "#Checking if there is any Null value\n",
    "df.isnull().values.sum()"
   ]
  },
  {
   "cell_type": "markdown",
   "id": "aeebf651",
   "metadata": {},
   "source": [
    "https://developers.redhat.com/articles/2022/03/04/data-conversion-pandas-dataframes-3-approaches-try#2__using_the_astype_method"
   ]
  },
  {
   "cell_type": "code",
   "execution_count": 196,
   "id": "d03e246b",
   "metadata": {},
   "outputs": [],
   "source": [
    "# Converting the mesuraments from Pounds and inches to Kg and cm\n",
    "#df[\"Height\"] = df[\"Height\"].apply(lambda x: x*2.54)\n",
    "#df[\"Weight\"] = df[\"Weight\"].apply(lambda y: y/2.205) "
   ]
  },
  {
   "cell_type": "code",
   "execution_count": 299,
   "id": "049b8278",
   "metadata": {},
   "outputs": [
    {
     "data": {
      "text/html": [
       "<div>\n",
       "<style scoped>\n",
       "    .dataframe tbody tr th:only-of-type {\n",
       "        vertical-align: middle;\n",
       "    }\n",
       "\n",
       "    .dataframe tbody tr th {\n",
       "        vertical-align: top;\n",
       "    }\n",
       "\n",
       "    .dataframe thead th {\n",
       "        text-align: right;\n",
       "    }\n",
       "</style>\n",
       "<table border=\"1\" class=\"dataframe\">\n",
       "  <thead>\n",
       "    <tr style=\"text-align: right;\">\n",
       "      <th></th>\n",
       "      <th>Gender</th>\n",
       "      <th>Height</th>\n",
       "      <th>Weight</th>\n",
       "    </tr>\n",
       "  </thead>\n",
       "  <tbody>\n",
       "    <tr>\n",
       "      <th>0</th>\n",
       "      <td>Male</td>\n",
       "      <td>187.571423</td>\n",
       "      <td>109.702296</td>\n",
       "    </tr>\n",
       "    <tr>\n",
       "      <th>1</th>\n",
       "      <td>Male</td>\n",
       "      <td>174.706036</td>\n",
       "      <td>73.610192</td>\n",
       "    </tr>\n",
       "    <tr>\n",
       "      <th>2</th>\n",
       "      <td>Male</td>\n",
       "      <td>188.239668</td>\n",
       "      <td>96.481114</td>\n",
       "    </tr>\n",
       "    <tr>\n",
       "      <th>3</th>\n",
       "      <td>Male</td>\n",
       "      <td>182.196685</td>\n",
       "      <td>99.792504</td>\n",
       "    </tr>\n",
       "    <tr>\n",
       "      <th>4</th>\n",
       "      <td>Male</td>\n",
       "      <td>177.499761</td>\n",
       "      <td>93.582676</td>\n",
       "    </tr>\n",
       "    <tr>\n",
       "      <th>...</th>\n",
       "      <td>...</td>\n",
       "      <td>...</td>\n",
       "      <td>...</td>\n",
       "    </tr>\n",
       "    <tr>\n",
       "      <th>9995</th>\n",
       "      <td>Female</td>\n",
       "      <td>168.078536</td>\n",
       "      <td>62.030591</td>\n",
       "    </tr>\n",
       "    <tr>\n",
       "      <th>9996</th>\n",
       "      <td>Female</td>\n",
       "      <td>170.350573</td>\n",
       "      <td>77.491114</td>\n",
       "    </tr>\n",
       "    <tr>\n",
       "      <th>9997</th>\n",
       "      <td>Female</td>\n",
       "      <td>162.224700</td>\n",
       "      <td>58.265451</td>\n",
       "    </tr>\n",
       "    <tr>\n",
       "      <th>9998</th>\n",
       "      <td>Female</td>\n",
       "      <td>175.346978</td>\n",
       "      <td>74.309506</td>\n",
       "    </tr>\n",
       "    <tr>\n",
       "      <th>9999</th>\n",
       "      <td>Female</td>\n",
       "      <td>157.338385</td>\n",
       "      <td>51.541543</td>\n",
       "    </tr>\n",
       "  </tbody>\n",
       "</table>\n",
       "<p>10000 rows × 3 columns</p>\n",
       "</div>"
      ],
      "text/plain": [
       "      Gender      Height      Weight\n",
       "0       Male  187.571423  109.702296\n",
       "1       Male  174.706036   73.610192\n",
       "2       Male  188.239668   96.481114\n",
       "3       Male  182.196685   99.792504\n",
       "4       Male  177.499761   93.582676\n",
       "...      ...         ...         ...\n",
       "9995  Female  168.078536   62.030591\n",
       "9996  Female  170.350573   77.491114\n",
       "9997  Female  162.224700   58.265451\n",
       "9998  Female  175.346978   74.309506\n",
       "9999  Female  157.338385   51.541543\n",
       "\n",
       "[10000 rows x 3 columns]"
      ]
     },
     "execution_count": 299,
     "metadata": {},
     "output_type": "execute_result"
    }
   ],
   "source": [
    "df"
   ]
  },
  {
   "cell_type": "code",
   "execution_count": null,
   "id": "8ed66841",
   "metadata": {},
   "outputs": [],
   "source": []
  },
  {
   "cell_type": "code",
   "execution_count": 300,
   "id": "038c69f3",
   "metadata": {},
   "outputs": [],
   "source": [
    "# Breaking dividing the dataset into males and females.\n",
    "males = df.loc[df['Gender'] == 'Male']\n",
    "females = df.loc[df['Gender'] == 'Female']"
   ]
  },
  {
   "cell_type": "code",
   "execution_count": null,
   "id": "1a4728f0",
   "metadata": {},
   "outputs": [],
   "source": []
  },
  {
   "cell_type": "code",
   "execution_count": null,
   "id": "c55be905",
   "metadata": {},
   "outputs": [],
   "source": []
  },
  {
   "cell_type": "code",
   "execution_count": null,
   "id": "792cedfd",
   "metadata": {},
   "outputs": [],
   "source": []
  },
  {
   "cell_type": "code",
   "execution_count": 301,
   "id": "94c78162",
   "metadata": {},
   "outputs": [
    {
     "data": {
      "text/html": [
       "<div>\n",
       "<style scoped>\n",
       "    .dataframe tbody tr th:only-of-type {\n",
       "        vertical-align: middle;\n",
       "    }\n",
       "\n",
       "    .dataframe tbody tr th {\n",
       "        vertical-align: top;\n",
       "    }\n",
       "\n",
       "    .dataframe thead th {\n",
       "        text-align: right;\n",
       "    }\n",
       "</style>\n",
       "<table border=\"1\" class=\"dataframe\">\n",
       "  <thead>\n",
       "    <tr style=\"text-align: right;\">\n",
       "      <th></th>\n",
       "      <th>Height</th>\n",
       "      <th>Weight</th>\n",
       "    </tr>\n",
       "  </thead>\n",
       "  <tbody>\n",
       "    <tr>\n",
       "      <th>count</th>\n",
       "      <td>5000.000000</td>\n",
       "      <td>5000.000000</td>\n",
       "    </tr>\n",
       "    <tr>\n",
       "      <th>mean</th>\n",
       "      <td>175.326919</td>\n",
       "      <td>84.816608</td>\n",
       "    </tr>\n",
       "    <tr>\n",
       "      <th>std</th>\n",
       "      <td>7.272940</td>\n",
       "      <td>8.971045</td>\n",
       "    </tr>\n",
       "    <tr>\n",
       "      <th>min</th>\n",
       "      <td>148.353539</td>\n",
       "      <td>51.203147</td>\n",
       "    </tr>\n",
       "    <tr>\n",
       "      <th>25%</th>\n",
       "      <td>170.623685</td>\n",
       "      <td>78.860665</td>\n",
       "    </tr>\n",
       "    <tr>\n",
       "      <th>50%</th>\n",
       "      <td>175.330380</td>\n",
       "      <td>84.822470</td>\n",
       "    </tr>\n",
       "    <tr>\n",
       "      <th>75%</th>\n",
       "      <td>180.311409</td>\n",
       "      <td>90.865216</td>\n",
       "    </tr>\n",
       "    <tr>\n",
       "      <th>max</th>\n",
       "      <td>200.656806</td>\n",
       "      <td>122.444308</td>\n",
       "    </tr>\n",
       "  </tbody>\n",
       "</table>\n",
       "</div>"
      ],
      "text/plain": [
       "            Height       Weight\n",
       "count  5000.000000  5000.000000\n",
       "mean    175.326919    84.816608\n",
       "std       7.272940     8.971045\n",
       "min     148.353539    51.203147\n",
       "25%     170.623685    78.860665\n",
       "50%     175.330380    84.822470\n",
       "75%     180.311409    90.865216\n",
       "max     200.656806   122.444308"
      ]
     },
     "execution_count": 301,
     "metadata": {},
     "output_type": "execute_result"
    }
   ],
   "source": [
    "males.describe()"
   ]
  },
  {
   "cell_type": "code",
   "execution_count": 302,
   "id": "53bd5b57",
   "metadata": {},
   "outputs": [
    {
     "data": {
      "text/html": [
       "<div>\n",
       "<style scoped>\n",
       "    .dataframe tbody tr th:only-of-type {\n",
       "        vertical-align: middle;\n",
       "    }\n",
       "\n",
       "    .dataframe tbody tr th {\n",
       "        vertical-align: top;\n",
       "    }\n",
       "\n",
       "    .dataframe thead th {\n",
       "        text-align: right;\n",
       "    }\n",
       "</style>\n",
       "<table border=\"1\" class=\"dataframe\">\n",
       "  <thead>\n",
       "    <tr style=\"text-align: right;\">\n",
       "      <th></th>\n",
       "      <th>Height</th>\n",
       "      <th>Weight</th>\n",
       "    </tr>\n",
       "  </thead>\n",
       "  <tbody>\n",
       "    <tr>\n",
       "      <th>count</th>\n",
       "      <td>5000.000000</td>\n",
       "      <td>5000.000000</td>\n",
       "    </tr>\n",
       "    <tr>\n",
       "      <th>mean</th>\n",
       "      <td>161.820285</td>\n",
       "      <td>61.614555</td>\n",
       "    </tr>\n",
       "    <tr>\n",
       "      <th>std</th>\n",
       "      <td>6.848561</td>\n",
       "      <td>8.626970</td>\n",
       "    </tr>\n",
       "    <tr>\n",
       "      <th>min</th>\n",
       "      <td>137.828359</td>\n",
       "      <td>29.342461</td>\n",
       "    </tr>\n",
       "    <tr>\n",
       "      <th>25%</th>\n",
       "      <td>157.211881</td>\n",
       "      <td>55.752425</td>\n",
       "    </tr>\n",
       "    <tr>\n",
       "      <th>50%</th>\n",
       "      <td>161.876547</td>\n",
       "      <td>61.731330</td>\n",
       "    </tr>\n",
       "    <tr>\n",
       "      <th>75%</th>\n",
       "      <td>166.531456</td>\n",
       "      <td>67.487948</td>\n",
       "    </tr>\n",
       "    <tr>\n",
       "      <th>max</th>\n",
       "      <td>186.409548</td>\n",
       "      <td>91.717557</td>\n",
       "    </tr>\n",
       "  </tbody>\n",
       "</table>\n",
       "</div>"
      ],
      "text/plain": [
       "            Height       Weight\n",
       "count  5000.000000  5000.000000\n",
       "mean    161.820285    61.614555\n",
       "std       6.848561     8.626970\n",
       "min     137.828359    29.342461\n",
       "25%     157.211881    55.752425\n",
       "50%     161.876547    61.731330\n",
       "75%     166.531456    67.487948\n",
       "max     186.409548    91.717557"
      ]
     },
     "execution_count": 302,
     "metadata": {},
     "output_type": "execute_result"
    }
   ],
   "source": [
    "females.describe()"
   ]
  },
  {
   "cell_type": "code",
   "execution_count": 303,
   "id": "118dd0b7",
   "metadata": {},
   "outputs": [
    {
     "data": {
      "text/html": [
       "<div>\n",
       "<style scoped>\n",
       "    .dataframe tbody tr th:only-of-type {\n",
       "        vertical-align: middle;\n",
       "    }\n",
       "\n",
       "    .dataframe tbody tr th {\n",
       "        vertical-align: top;\n",
       "    }\n",
       "\n",
       "    .dataframe thead th {\n",
       "        text-align: right;\n",
       "    }\n",
       "</style>\n",
       "<table border=\"1\" class=\"dataframe\">\n",
       "  <thead>\n",
       "    <tr style=\"text-align: right;\">\n",
       "      <th></th>\n",
       "      <th>Height</th>\n",
       "      <th>Weight</th>\n",
       "    </tr>\n",
       "  </thead>\n",
       "  <tbody>\n",
       "    <tr>\n",
       "      <th>count</th>\n",
       "      <td>10000.000000</td>\n",
       "      <td>10000.000000</td>\n",
       "    </tr>\n",
       "    <tr>\n",
       "      <th>mean</th>\n",
       "      <td>168.573602</td>\n",
       "      <td>73.215581</td>\n",
       "    </tr>\n",
       "    <tr>\n",
       "      <th>std</th>\n",
       "      <td>9.772721</td>\n",
       "      <td>14.561650</td>\n",
       "    </tr>\n",
       "    <tr>\n",
       "      <th>min</th>\n",
       "      <td>137.828359</td>\n",
       "      <td>29.342461</td>\n",
       "    </tr>\n",
       "    <tr>\n",
       "      <th>25%</th>\n",
       "      <td>161.304276</td>\n",
       "      <td>61.595488</td>\n",
       "    </tr>\n",
       "    <tr>\n",
       "      <th>50%</th>\n",
       "      <td>168.447898</td>\n",
       "      <td>73.112439</td>\n",
       "    </tr>\n",
       "    <tr>\n",
       "      <th>75%</th>\n",
       "      <td>175.702625</td>\n",
       "      <td>84.884138</td>\n",
       "    </tr>\n",
       "    <tr>\n",
       "      <th>max</th>\n",
       "      <td>200.656806</td>\n",
       "      <td>122.444308</td>\n",
       "    </tr>\n",
       "  </tbody>\n",
       "</table>\n",
       "</div>"
      ],
      "text/plain": [
       "             Height        Weight\n",
       "count  10000.000000  10000.000000\n",
       "mean     168.573602     73.215581\n",
       "std        9.772721     14.561650\n",
       "min      137.828359     29.342461\n",
       "25%      161.304276     61.595488\n",
       "50%      168.447898     73.112439\n",
       "75%      175.702625     84.884138\n",
       "max      200.656806    122.444308"
      ]
     },
     "execution_count": 303,
     "metadata": {},
     "output_type": "execute_result"
    }
   ],
   "source": [
    "df.describe()"
   ]
  },
  {
   "cell_type": "code",
   "execution_count": 304,
   "id": "bed16f51",
   "metadata": {},
   "outputs": [
    {
     "data": {
      "text/plain": [
       "<seaborn.axisgrid.FacetGrid at 0x2839bc225b0>"
      ]
     },
     "execution_count": 304,
     "metadata": {},
     "output_type": "execute_result"
    },
    {
     "data": {
      "image/png": "[encoded data removed]",
      "text/plain": [
       "<Figure size 500x500 with 1 Axes>"
      ]
     },
     "metadata": {},
     "output_type": "display_data"
    }
   ],
   "source": [
    "sns.displot(males['Height'], kde=True)"
   ]
  },
  {
   "cell_type": "code",
   "execution_count": 305,
   "id": "b5e11b10",
   "metadata": {},
   "outputs": [
    {
     "data": {
      "text/plain": [
       "<seaborn.axisgrid.FacetGrid at 0x2839a956460>"
      ]
     },
     "execution_count": 305,
     "metadata": {},
     "output_type": "execute_result"
    },
    {
     "data": {
      "image/png": "[encoded data removed]",
      "text/plain": [
       "<Figure size 500x500 with 1 Axes>"
      ]
     },
     "metadata": {},
     "output_type": "display_data"
    }
   ],
   "source": [
    "# Plotting the height\n",
    "sns.displot(females['Height'], kde=True)"
   ]
  },
  {
   "cell_type": "code",
   "execution_count": null,
   "id": "33030518",
   "metadata": {},
   "outputs": [],
   "source": []
  },
  {
   "cell_type": "code",
   "execution_count": null,
   "id": "1d3b3b98",
   "metadata": {},
   "outputs": [],
   "source": []
  },
  {
   "cell_type": "code",
   "execution_count": null,
   "id": "f60b26ab",
   "metadata": {},
   "outputs": [],
   "source": []
  },
  {
   "cell_type": "code",
   "execution_count": 306,
   "id": "b2c7b3e7",
   "metadata": {},
   "outputs": [
    {
     "data": {
      "text/plain": [
       "<seaborn.axisgrid.FacetGrid at 0x2839a27de50>"
      ]
     },
     "execution_count": 306,
     "metadata": {},
     "output_type": "execute_result"
    },
    {
     "data": {
      "image/png": "[encoded data removed]",
      "text/plain": [
       "<Figure size 500x500 with 1 Axes>"
      ]
     },
     "metadata": {},
     "output_type": "display_data"
    }
   ],
   "source": [
    "sns.displot(males['Weight'], kde=True)"
   ]
  },
  {
   "cell_type": "code",
   "execution_count": 307,
   "id": "759d420c",
   "metadata": {},
   "outputs": [
    {
     "data": {
      "text/plain": [
       "<seaborn.axisgrid.FacetGrid at 0x283998bffa0>"
      ]
     },
     "execution_count": 307,
     "metadata": {},
     "output_type": "execute_result"
    },
    {
     "data": {
      "image/png": "[encoded data removed]",
      "text/plain": [
       "<Figure size 500x500 with 1 Axes>"
      ]
     },
     "metadata": {},
     "output_type": "display_data"
    }
   ],
   "source": [
    "sns.displot(females['Weight'], kde=True)"
   ]
  },
  {
   "cell_type": "code",
   "execution_count": 308,
   "id": "2aefd300",
   "metadata": {},
   "outputs": [
    {
     "data": {
      "text/plain": [
       "0.001767809263208603"
      ]
     },
     "execution_count": 308,
     "metadata": {},
     "output_type": "execute_result"
    }
   ],
   "source": [
    "stats.skew(males['Weight'])"
   ]
  },
  {
   "cell_type": "code",
   "execution_count": 309,
   "id": "79545081",
   "metadata": {},
   "outputs": [
    {
     "data": {
      "text/plain": [
       "-0.013279182336161472"
      ]
     },
     "execution_count": 309,
     "metadata": {},
     "output_type": "execute_result"
    }
   ],
   "source": [
    "stats.skew(females['Weight'])"
   ]
  },
  {
   "cell_type": "code",
   "execution_count": null,
   "id": "09a38aa9",
   "metadata": {},
   "outputs": [],
   "source": []
  },
  {
   "cell_type": "code",
   "execution_count": null,
   "id": "abe9d378",
   "metadata": {},
   "outputs": [],
   "source": []
  },
  {
   "cell_type": "code",
   "execution_count": null,
   "id": "8e815c14",
   "metadata": {},
   "outputs": [],
   "source": []
  },
  {
   "cell_type": "markdown",
   "id": "ae6fb0b5",
   "metadata": {},
   "source": [
    "The plots for the height of both males and females fit the normal distribuition model."
   ]
  },
  {
   "cell_type": "markdown",
   "id": "86816b1a",
   "metadata": {},
   "source": [
    "Simulating the data"
   ]
  },
  {
   "cell_type": "markdown",
   "id": "ab9344c1",
   "metadata": {},
   "source": [
    "Height\n",
    "\n",
    "According to https://www.worlddata.info/average-bodyheight.php and https://en.wikipedia.org/wiki/Average_human_height_by_country , the average height for a American men is 1.77 m and for women is 1.63 m.\n",
    "\n",
    "After some research we could find that human heights are generally accepted to be normal distributed. (https://ourworldindata.org/human-height#height-is-normally-distributed). And that an acceptable standard deviation is for men is 7.49 cm and for women 6.96 cm. (add quotes ´´Regionally, the standard deviation of male heights is largest in North America and Australia, at 7.49 cm, with 6.96 cm in North America and Australia´´)\n",
    "\n",
    "\n"
   ]
  },
  {
   "cell_type": "code",
   "execution_count": 310,
   "id": "fa55dc3c",
   "metadata": {},
   "outputs": [],
   "source": [
    "rng = np.random.default_rng()"
   ]
  },
  {
   "cell_type": "code",
   "execution_count": 311,
   "id": "ea1675dc",
   "metadata": {},
   "outputs": [],
   "source": [
    "males_height_sim = rng.normal(177, 7.49, 5000)"
   ]
  },
  {
   "cell_type": "code",
   "execution_count": 312,
   "id": "31d68f19",
   "metadata": {},
   "outputs": [
    {
     "data": {
      "text/plain": [
       "<seaborn.axisgrid.FacetGrid at 0x283998c7310>"
      ]
     },
     "execution_count": 312,
     "metadata": {},
     "output_type": "execute_result"
    },
    {
     "data": {
      "image/png": "[encoded data removed]",
      "text/plain": [
       "<Figure size 500x500 with 1 Axes>"
      ]
     },
     "metadata": {},
     "output_type": "display_data"
    }
   ],
   "source": [
    "sns.displot(males_height_sim, kde=True)"
   ]
  },
  {
   "cell_type": "code",
   "execution_count": null,
   "id": "ece05b35",
   "metadata": {},
   "outputs": [],
   "source": []
  },
  {
   "cell_type": "markdown",
   "id": "d89c0e92",
   "metadata": {},
   "source": [
    "Weight\n",
    "According to https://www.cdc.gov/nchs/fastats/body-measurements.htm , the average weight for a American man is 90.6 kg and for American woman 77.1 kg. \n",
    "\n",
    "Using the standar deviation from our base sample 8.97 kg"
   ]
  },
  {
   "cell_type": "code",
   "execution_count": 313,
   "id": "4e27b59a",
   "metadata": {},
   "outputs": [
    {
     "data": {
      "text/plain": [
       "<seaborn.axisgrid.FacetGrid at 0x2839be88c40>"
      ]
     },
     "execution_count": 313,
     "metadata": {},
     "output_type": "execute_result"
    },
    {
     "data": {
      "image/png": "[encoded data removed]",
      "text/plain": [
       "<Figure size 500x500 with 1 Axes>"
      ]
     },
     "metadata": {},
     "output_type": "display_data"
    }
   ],
   "source": [
    "males_weight_sim = rng.normal(90.6, 8.97, 5000)\n",
    "sns.displot(males_weight_sim)\n"
   ]
  },
  {
   "cell_type": "code",
   "execution_count": 314,
   "id": "bca61339",
   "metadata": {},
   "outputs": [
    {
     "data": {
      "text/plain": [
       "<seaborn.axisgrid.FacetGrid at 0x2839c011040>"
      ]
     },
     "execution_count": 314,
     "metadata": {},
     "output_type": "execute_result"
    },
    {
     "data": {
      "image/png": "[encoded data removed]",
      "text/plain": [
       "<Figure size 500x500 with 1 Axes>"
      ]
     },
     "metadata": {},
     "output_type": "display_data"
    }
   ],
   "source": [
    "female_height_sim = rng.normal(163, 6.96, 5000)\n",
    "sns.displot(female_height_sim, kde=True)"
   ]
  },
  {
   "cell_type": "code",
   "execution_count": 315,
   "id": "9a887a3a",
   "metadata": {},
   "outputs": [
    {
     "data": {
      "text/plain": [
       "<seaborn.axisgrid.FacetGrid at 0x2839bfefbb0>"
      ]
     },
     "execution_count": 315,
     "metadata": {},
     "output_type": "execute_result"
    },
    {
     "data": {
      "image/png": "[encoded data removed]",
      "text/plain": [
       "<Figure size 500x500 with 1 Axes>"
      ]
     },
     "metadata": {},
     "output_type": "display_data"
    }
   ],
   "source": [
    "female_weight_sim = rng.normal(77.01, 8.62, 5000)\n",
    "sns.displot(female_weight_sim, kde=True)"
   ]
  },
  {
   "cell_type": "code",
   "execution_count": null,
   "id": "2756dc0e",
   "metadata": {},
   "outputs": [],
   "source": []
  },
  {
   "cell_type": "code",
   "execution_count": null,
   "id": "fe47ccd3",
   "metadata": {},
   "outputs": [],
   "source": []
  },
  {
   "cell_type": "code",
   "execution_count": null,
   "id": "fcdbbf8d",
   "metadata": {},
   "outputs": [],
   "source": []
  },
  {
   "cell_type": "code",
   "execution_count": null,
   "id": "7a7355e4",
   "metadata": {},
   "outputs": [],
   "source": []
  },
  {
   "cell_type": "code",
   "execution_count": 316,
   "id": "c2aa8e3a",
   "metadata": {},
   "outputs": [
    {
     "data": {
      "text/plain": [
       "array([96.59960254, 79.48980203, 87.58867832, ..., 89.33476578,\n",
       "       91.34698683, 71.00454315])"
      ]
     },
     "execution_count": 316,
     "metadata": {},
     "output_type": "execute_result"
    }
   ],
   "source": [
    "males_weight_sim"
   ]
  },
  {
   "cell_type": "code",
   "execution_count": 323,
   "id": "85b05354",
   "metadata": {},
   "outputs": [
    {
     "data": {
      "text/plain": [
       "array([180.43377184, 178.79006142, 180.77627337, ..., 175.89091754,\n",
       "       174.98138989, 166.71559299])"
      ]
     },
     "execution_count": 323,
     "metadata": {},
     "output_type": "execute_result"
    }
   ],
   "source": [
    "males_height_sim"
   ]
  },
  {
   "cell_type": "code",
   "execution_count": 318,
   "id": "02fc5fa8",
   "metadata": {},
   "outputs": [],
   "source": [
    "# Simulating the BMI"
   ]
  },
  {
   "cell_type": "code",
   "execution_count": 326,
   "id": "2da28a06",
   "metadata": {},
   "outputs": [],
   "source": [
    "males_bmi = (males_weight_sim)/(males_height_sim/100)**2"
   ]
  },
  {
   "cell_type": "code",
   "execution_count": 328,
   "id": "77550339",
   "metadata": {},
   "outputs": [
    {
     "data": {
      "text/plain": [
       "array([29.67151242, 24.86707294, 26.80187111, ..., 28.87577667,\n",
       "       29.83393249, 25.54663449])"
      ]
     },
     "execution_count": 328,
     "metadata": {},
     "output_type": "execute_result"
    }
   ],
   "source": [
    "males_bmi"
   ]
  },
  {
   "cell_type": "code",
   "execution_count": 356,
   "id": "c884720a",
   "metadata": {},
   "outputs": [],
   "source": [
    "male= ['Male']\n",
    "male=np.random.choice(male, 5000)"
   ]
  },
  {
   "cell_type": "code",
   "execution_count": 354,
   "id": "1f0b849e",
   "metadata": {},
   "outputs": [],
   "source": [
    "#Populating the male dfwith the simulated Data\n",
    "df_male = pd.DataFrame(columns=['Gender', 'Height','Weight', 'BMI'])\n",
    "df_male['Gender'] = male\n",
    "df_male['Height'] = males_height_sim\n",
    "df_male['Weight'] = males_weight_sim \n",
    "df_male['BMI'] = males_bmi"
   ]
  },
  {
   "cell_type": "code",
   "execution_count": 355,
   "id": "fa755a6e",
   "metadata": {},
   "outputs": [
    {
     "data": {
      "text/html": [
       "<div>\n",
       "<style scoped>\n",
       "    .dataframe tbody tr th:only-of-type {\n",
       "        vertical-align: middle;\n",
       "    }\n",
       "\n",
       "    .dataframe tbody tr th {\n",
       "        vertical-align: top;\n",
       "    }\n",
       "\n",
       "    .dataframe thead th {\n",
       "        text-align: right;\n",
       "    }\n",
       "</style>\n",
       "<table border=\"1\" class=\"dataframe\">\n",
       "  <thead>\n",
       "    <tr style=\"text-align: right;\">\n",
       "      <th></th>\n",
       "      <th>Gender</th>\n",
       "      <th>Height</th>\n",
       "      <th>Weight</th>\n",
       "      <th>BMI</th>\n",
       "    </tr>\n",
       "  </thead>\n",
       "  <tbody>\n",
       "    <tr>\n",
       "      <th>0</th>\n",
       "      <td>Male</td>\n",
       "      <td>180.433772</td>\n",
       "      <td>96.599603</td>\n",
       "      <td>29.671512</td>\n",
       "    </tr>\n",
       "    <tr>\n",
       "      <th>1</th>\n",
       "      <td>Male</td>\n",
       "      <td>178.790061</td>\n",
       "      <td>79.489802</td>\n",
       "      <td>24.867073</td>\n",
       "    </tr>\n",
       "    <tr>\n",
       "      <th>2</th>\n",
       "      <td>Male</td>\n",
       "      <td>180.776273</td>\n",
       "      <td>87.588678</td>\n",
       "      <td>26.801871</td>\n",
       "    </tr>\n",
       "    <tr>\n",
       "      <th>3</th>\n",
       "      <td>Male</td>\n",
       "      <td>182.646180</td>\n",
       "      <td>99.641209</td>\n",
       "      <td>29.868802</td>\n",
       "    </tr>\n",
       "    <tr>\n",
       "      <th>4</th>\n",
       "      <td>Male</td>\n",
       "      <td>169.368945</td>\n",
       "      <td>80.164186</td>\n",
       "      <td>27.945561</td>\n",
       "    </tr>\n",
       "    <tr>\n",
       "      <th>...</th>\n",
       "      <td>...</td>\n",
       "      <td>...</td>\n",
       "      <td>...</td>\n",
       "      <td>...</td>\n",
       "    </tr>\n",
       "    <tr>\n",
       "      <th>4995</th>\n",
       "      <td>Male</td>\n",
       "      <td>186.633079</td>\n",
       "      <td>92.187001</td>\n",
       "      <td>26.466252</td>\n",
       "    </tr>\n",
       "    <tr>\n",
       "      <th>4996</th>\n",
       "      <td>Male</td>\n",
       "      <td>179.980174</td>\n",
       "      <td>95.730879</td>\n",
       "      <td>29.553077</td>\n",
       "    </tr>\n",
       "    <tr>\n",
       "      <th>4997</th>\n",
       "      <td>Male</td>\n",
       "      <td>175.890918</td>\n",
       "      <td>89.334766</td>\n",
       "      <td>28.875777</td>\n",
       "    </tr>\n",
       "    <tr>\n",
       "      <th>4998</th>\n",
       "      <td>Male</td>\n",
       "      <td>174.981390</td>\n",
       "      <td>91.346987</td>\n",
       "      <td>29.833932</td>\n",
       "    </tr>\n",
       "    <tr>\n",
       "      <th>4999</th>\n",
       "      <td>Male</td>\n",
       "      <td>166.715593</td>\n",
       "      <td>71.004543</td>\n",
       "      <td>25.546634</td>\n",
       "    </tr>\n",
       "  </tbody>\n",
       "</table>\n",
       "<p>5000 rows × 4 columns</p>\n",
       "</div>"
      ],
      "text/plain": [
       "     Gender      Height     Weight        BMI\n",
       "0      Male  180.433772  96.599603  29.671512\n",
       "1      Male  178.790061  79.489802  24.867073\n",
       "2      Male  180.776273  87.588678  26.801871\n",
       "3      Male  182.646180  99.641209  29.868802\n",
       "4      Male  169.368945  80.164186  27.945561\n",
       "...     ...         ...        ...        ...\n",
       "4995   Male  186.633079  92.187001  26.466252\n",
       "4996   Male  179.980174  95.730879  29.553077\n",
       "4997   Male  175.890918  89.334766  28.875777\n",
       "4998   Male  174.981390  91.346987  29.833932\n",
       "4999   Male  166.715593  71.004543  25.546634\n",
       "\n",
       "[5000 rows x 4 columns]"
      ]
     },
     "execution_count": 355,
     "metadata": {},
     "output_type": "execute_result"
    }
   ],
   "source": [
    "df_male"
   ]
  },
  {
   "cell_type": "code",
   "execution_count": null,
   "id": "24b56ab5",
   "metadata": {},
   "outputs": [],
   "source": [
    "female = ['Female']\n",
    "female=np.random.choice(female, 5000)"
   ]
  },
  {
   "cell_type": "code",
   "execution_count": 357,
   "id": "b457351d",
   "metadata": {},
   "outputs": [
    {
     "data": {
      "text/plain": [
       "array([28.90964467, 31.15086016, 29.70939001, ..., 30.9972817 ,\n",
       "       31.10296168, 22.2398317 ])"
      ]
     },
     "execution_count": 357,
     "metadata": {},
     "output_type": "execute_result"
    }
   ],
   "source": [
    "female_bmi = (female_weight_sim)/(female_height_sim/100)**2\n",
    "female_bmi"
   ]
  },
  {
   "cell_type": "code",
   "execution_count": 358,
   "id": "40d2f385",
   "metadata": {},
   "outputs": [],
   "source": [
    "#Populating the Female DF\n",
    "df_female = pd.DataFrame(columns=['Gender', 'Height','Weight', 'BMI'])\n",
    "df_female['Gender'] = female\n",
    "df_female['Height'] = female_height_sim\n",
    "df_female['Weight'] = female_weight_sim \n",
    "df_female['BMI'] = female_bmi"
   ]
  },
  {
   "cell_type": "code",
   "execution_count": 359,
   "id": "ac64eac5",
   "metadata": {},
   "outputs": [
    {
     "data": {
      "text/html": [
       "<div>\n",
       "<style scoped>\n",
       "    .dataframe tbody tr th:only-of-type {\n",
       "        vertical-align: middle;\n",
       "    }\n",
       "\n",
       "    .dataframe tbody tr th {\n",
       "        vertical-align: top;\n",
       "    }\n",
       "\n",
       "    .dataframe thead th {\n",
       "        text-align: right;\n",
       "    }\n",
       "</style>\n",
       "<table border=\"1\" class=\"dataframe\">\n",
       "  <thead>\n",
       "    <tr style=\"text-align: right;\">\n",
       "      <th></th>\n",
       "      <th>Gender</th>\n",
       "      <th>Height</th>\n",
       "      <th>Weight</th>\n",
       "      <th>BMI</th>\n",
       "    </tr>\n",
       "  </thead>\n",
       "  <tbody>\n",
       "    <tr>\n",
       "      <th>0</th>\n",
       "      <td>Female</td>\n",
       "      <td>164.667859</td>\n",
       "      <td>78.389958</td>\n",
       "      <td>28.909645</td>\n",
       "    </tr>\n",
       "    <tr>\n",
       "      <th>1</th>\n",
       "      <td>Female</td>\n",
       "      <td>161.280999</td>\n",
       "      <td>81.028249</td>\n",
       "      <td>31.150860</td>\n",
       "    </tr>\n",
       "    <tr>\n",
       "      <th>2</th>\n",
       "      <td>Female</td>\n",
       "      <td>164.521960</td>\n",
       "      <td>80.415818</td>\n",
       "      <td>29.709390</td>\n",
       "    </tr>\n",
       "    <tr>\n",
       "      <th>3</th>\n",
       "      <td>Female</td>\n",
       "      <td>161.963823</td>\n",
       "      <td>84.113175</td>\n",
       "      <td>32.064760</td>\n",
       "    </tr>\n",
       "    <tr>\n",
       "      <th>4</th>\n",
       "      <td>Female</td>\n",
       "      <td>155.036969</td>\n",
       "      <td>74.829575</td>\n",
       "      <td>31.131693</td>\n",
       "    </tr>\n",
       "    <tr>\n",
       "      <th>...</th>\n",
       "      <td>...</td>\n",
       "      <td>...</td>\n",
       "      <td>...</td>\n",
       "      <td>...</td>\n",
       "    </tr>\n",
       "    <tr>\n",
       "      <th>4995</th>\n",
       "      <td>Female</td>\n",
       "      <td>165.121194</td>\n",
       "      <td>81.597320</td>\n",
       "      <td>29.927487</td>\n",
       "    </tr>\n",
       "    <tr>\n",
       "      <th>4996</th>\n",
       "      <td>Female</td>\n",
       "      <td>164.513278</td>\n",
       "      <td>78.385708</td>\n",
       "      <td>28.962429</td>\n",
       "    </tr>\n",
       "    <tr>\n",
       "      <th>4997</th>\n",
       "      <td>Female</td>\n",
       "      <td>157.296974</td>\n",
       "      <td>76.694522</td>\n",
       "      <td>30.997282</td>\n",
       "    </tr>\n",
       "    <tr>\n",
       "      <th>4998</th>\n",
       "      <td>Female</td>\n",
       "      <td>160.184101</td>\n",
       "      <td>79.806922</td>\n",
       "      <td>31.102962</td>\n",
       "    </tr>\n",
       "    <tr>\n",
       "      <th>4999</th>\n",
       "      <td>Female</td>\n",
       "      <td>160.503808</td>\n",
       "      <td>57.293081</td>\n",
       "      <td>22.239832</td>\n",
       "    </tr>\n",
       "  </tbody>\n",
       "</table>\n",
       "<p>5000 rows × 4 columns</p>\n",
       "</div>"
      ],
      "text/plain": [
       "      Gender      Height     Weight        BMI\n",
       "0     Female  164.667859  78.389958  28.909645\n",
       "1     Female  161.280999  81.028249  31.150860\n",
       "2     Female  164.521960  80.415818  29.709390\n",
       "3     Female  161.963823  84.113175  32.064760\n",
       "4     Female  155.036969  74.829575  31.131693\n",
       "...      ...         ...        ...        ...\n",
       "4995  Female  165.121194  81.597320  29.927487\n",
       "4996  Female  164.513278  78.385708  28.962429\n",
       "4997  Female  157.296974  76.694522  30.997282\n",
       "4998  Female  160.184101  79.806922  31.102962\n",
       "4999  Female  160.503808  57.293081  22.239832\n",
       "\n",
       "[5000 rows x 4 columns]"
      ]
     },
     "execution_count": 359,
     "metadata": {},
     "output_type": "execute_result"
    }
   ],
   "source": [
    "df_female"
   ]
  },
  {
   "cell_type": "code",
   "execution_count": 366,
   "id": "39a6832e",
   "metadata": {},
   "outputs": [],
   "source": [
    "# Concatenating both DF\n",
    "bmi_df = pd.concat([df_male, df_female], ignore_index=True)"
   ]
  },
  {
   "cell_type": "code",
   "execution_count": 367,
   "id": "f3fe8d31",
   "metadata": {},
   "outputs": [
    {
     "data": {
      "text/html": [
       "<div>\n",
       "<style scoped>\n",
       "    .dataframe tbody tr th:only-of-type {\n",
       "        vertical-align: middle;\n",
       "    }\n",
       "\n",
       "    .dataframe tbody tr th {\n",
       "        vertical-align: top;\n",
       "    }\n",
       "\n",
       "    .dataframe thead th {\n",
       "        text-align: right;\n",
       "    }\n",
       "</style>\n",
       "<table border=\"1\" class=\"dataframe\">\n",
       "  <thead>\n",
       "    <tr style=\"text-align: right;\">\n",
       "      <th></th>\n",
       "      <th>Gender</th>\n",
       "      <th>Height</th>\n",
       "      <th>Weight</th>\n",
       "      <th>BMI</th>\n",
       "    </tr>\n",
       "  </thead>\n",
       "  <tbody>\n",
       "    <tr>\n",
       "      <th>0</th>\n",
       "      <td>Male</td>\n",
       "      <td>180.433772</td>\n",
       "      <td>96.599603</td>\n",
       "      <td>29.671512</td>\n",
       "    </tr>\n",
       "    <tr>\n",
       "      <th>1</th>\n",
       "      <td>Male</td>\n",
       "      <td>178.790061</td>\n",
       "      <td>79.489802</td>\n",
       "      <td>24.867073</td>\n",
       "    </tr>\n",
       "    <tr>\n",
       "      <th>2</th>\n",
       "      <td>Male</td>\n",
       "      <td>180.776273</td>\n",
       "      <td>87.588678</td>\n",
       "      <td>26.801871</td>\n",
       "    </tr>\n",
       "    <tr>\n",
       "      <th>3</th>\n",
       "      <td>Male</td>\n",
       "      <td>182.646180</td>\n",
       "      <td>99.641209</td>\n",
       "      <td>29.868802</td>\n",
       "    </tr>\n",
       "    <tr>\n",
       "      <th>4</th>\n",
       "      <td>Male</td>\n",
       "      <td>169.368945</td>\n",
       "      <td>80.164186</td>\n",
       "      <td>27.945561</td>\n",
       "    </tr>\n",
       "    <tr>\n",
       "      <th>...</th>\n",
       "      <td>...</td>\n",
       "      <td>...</td>\n",
       "      <td>...</td>\n",
       "      <td>...</td>\n",
       "    </tr>\n",
       "    <tr>\n",
       "      <th>9995</th>\n",
       "      <td>Female</td>\n",
       "      <td>165.121194</td>\n",
       "      <td>81.597320</td>\n",
       "      <td>29.927487</td>\n",
       "    </tr>\n",
       "    <tr>\n",
       "      <th>9996</th>\n",
       "      <td>Female</td>\n",
       "      <td>164.513278</td>\n",
       "      <td>78.385708</td>\n",
       "      <td>28.962429</td>\n",
       "    </tr>\n",
       "    <tr>\n",
       "      <th>9997</th>\n",
       "      <td>Female</td>\n",
       "      <td>157.296974</td>\n",
       "      <td>76.694522</td>\n",
       "      <td>30.997282</td>\n",
       "    </tr>\n",
       "    <tr>\n",
       "      <th>9998</th>\n",
       "      <td>Female</td>\n",
       "      <td>160.184101</td>\n",
       "      <td>79.806922</td>\n",
       "      <td>31.102962</td>\n",
       "    </tr>\n",
       "    <tr>\n",
       "      <th>9999</th>\n",
       "      <td>Female</td>\n",
       "      <td>160.503808</td>\n",
       "      <td>57.293081</td>\n",
       "      <td>22.239832</td>\n",
       "    </tr>\n",
       "  </tbody>\n",
       "</table>\n",
       "<p>10000 rows × 4 columns</p>\n",
       "</div>"
      ],
      "text/plain": [
       "      Gender      Height     Weight        BMI\n",
       "0       Male  180.433772  96.599603  29.671512\n",
       "1       Male  178.790061  79.489802  24.867073\n",
       "2       Male  180.776273  87.588678  26.801871\n",
       "3       Male  182.646180  99.641209  29.868802\n",
       "4       Male  169.368945  80.164186  27.945561\n",
       "...      ...         ...        ...        ...\n",
       "9995  Female  165.121194  81.597320  29.927487\n",
       "9996  Female  164.513278  78.385708  28.962429\n",
       "9997  Female  157.296974  76.694522  30.997282\n",
       "9998  Female  160.184101  79.806922  31.102962\n",
       "9999  Female  160.503808  57.293081  22.239832\n",
       "\n",
       "[10000 rows x 4 columns]"
      ]
     },
     "execution_count": 367,
     "metadata": {},
     "output_type": "execute_result"
    }
   ],
   "source": [
    "bmi_df"
   ]
  },
  {
   "cell_type": "code",
   "execution_count": null,
   "id": "c6566325",
   "metadata": {},
   "outputs": [],
   "source": []
  }
 ],
 "metadata": {
  "kernelspec": {
   "display_name": "Python 3 (ipykernel)",
   "language": "python",
   "name": "python3"
  },
  "language_info": {
   "codemirror_mode": {
    "name": "ipython",
    "version": 3
   },
   "file_extension": ".py",
   "mimetype": "text/x-python",
   "name": "python",
   "nbconvert_exporter": "python",
   "pygments_lexer": "ipython3",
   "version": "3.9.13"
  }
 },
 "nbformat": 4,
 "nbformat_minor": 5
}
